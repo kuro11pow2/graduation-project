{
 "metadata": {
  "language_info": {
   "codemirror_mode": {
    "name": "ipython",
    "version": 3
   },
   "file_extension": ".py",
   "mimetype": "text/x-python",
   "name": "python",
   "nbconvert_exporter": "python",
   "pygments_lexer": "ipython3",
   "version": "3.7.10-final"
  },
  "orig_nbformat": 2,
  "kernelspec": {
   "name": "python3",
   "display_name": "Python 3",
   "language": "python"
  }
 },
 "nbformat": 4,
 "nbformat_minor": 2,
 "cells": [
  {
   "source": [
    "# 주의사항\n",
    "1. windows 환경에서는 빌드된 ffmpeg 실행파일을 환경 변수 > Path 에 등록해야 한다.\n",
    "2. gym 0.18.0 에는 video로 저장할 수 없는 버그가 있다. [refer](https://github.com/openai/gym/issues/1925)\n",
    "3. wrappers.Monitor의 video_callable 파라미터로 녹화할 에피소드를 지정할 수 있다. capture_frame이 호출되는 시점은 _after_step이다.  \n",
    "\n",
    "> \n",
    "* Monitor wrapper에서 반환된 env는 step을 실행할 때 _before_step(action), env.step(action), _after_step(action) 순으로 실행 후 return observatoin, reward ... 한다.  \n",
    "* 프레임 캡쳐는 위와 같이 매 스탭 진행되고 비디오 저장은 reset_video_recorder에서 호출하는 _close_video_recorder가 진행한다.  \n",
    "* reset_video_recorder는 _after_reset에서 호출된다.\n",
    "* n_epi를 녹화하려면 n_epi + 1이 시작된 이후, 또는 안전하게 n_epi + 2까지 가서 녹화해야 한다."
   ],
   "cell_type": "markdown",
   "metadata": {}
  },
  {
   "cell_type": "code",
   "execution_count": 29,
   "metadata": {
    "tags": []
   },
   "outputs": [
    {
     "output_type": "stream",
     "name": "stdout",
     "text": [
      "0 Episode finished after 31 timesteps\n",
      "1 Episode finished after 38 timesteps\n",
      "2 Episode finished after 19 timesteps\n",
      "3 Episode finished after 34 timesteps\n",
      "4 Episode finished after 22 timesteps\n",
      "5 Episode finished after 16 timesteps\n",
      "6 Episode finished after 14 timesteps\n",
      "7 Episode finished after 10 timesteps\n",
      "8 Episode finished after 17 timesteps\n",
      "9 Episode finished after 17 timesteps\n",
      "10 Episode finished after 21 timesteps\n",
      "11 Episode finished after 16 timesteps\n",
      "12 Episode finished after 19 timesteps\n",
      "13 Episode finished after 24 timesteps\n",
      "14 Episode finished after 41 timesteps\n",
      "15 Episode finished after 15 timesteps\n",
      "16 Episode finished after 15 timesteps\n",
      "17 Episode finished after 31 timesteps\n",
      "18 Episode finished after 35 timesteps\n",
      "19 Episode finished after 15 timesteps\n",
      "20 Episode finished after 15 timesteps\n",
      "21 Episode finished after 21 timesteps\n",
      "22 Episode finished after 15 timesteps\n",
      "23 Episode finished after 14 timesteps\n",
      "24 Episode finished after 51 timesteps\n",
      "25 Episode finished after 42 timesteps\n",
      "26 Episode finished after 16 timesteps\n",
      "27 Episode finished after 15 timesteps\n",
      "28 Episode finished after 16 timesteps\n",
      "29 Episode finished after 30 timesteps\n",
      "30 Episode finished after 17 timesteps\n",
      "31 Episode finished after 17 timesteps\n",
      "32 Episode finished after 25 timesteps\n",
      "33 Episode finished after 42 timesteps\n",
      "34 Episode finished after 15 timesteps\n",
      "35 Episode finished after 25 timesteps\n",
      "36 Episode finished after 23 timesteps\n",
      "37 Episode finished after 20 timesteps\n",
      "38 Episode finished after 70 timesteps\n",
      "39 Episode finished after 12 timesteps\n",
      "40 Episode finished after 29 timesteps\n",
      "41 Episode finished after 35 timesteps\n",
      "42 Episode finished after 15 timesteps\n",
      "43 Episode finished after 18 timesteps\n",
      "44 Episode finished after 21 timesteps\n",
      "45 Episode finished after 20 timesteps\n",
      "46 Episode finished after 26 timesteps\n",
      "47 Episode finished after 15 timesteps\n",
      "48 Episode finished after 31 timesteps\n",
      "49 Episode finished after 15 timesteps\n",
      "50 Episode finished after 19 timesteps\n",
      "51 Episode finished after 15 timesteps\n",
      "52 Episode finished after 22 timesteps\n",
      "53 Episode finished after 14 timesteps\n",
      "54 Episode finished after 44 timesteps\n",
      "55 Episode finished after 18 timesteps\n",
      "56 Episode finished after 43 timesteps\n",
      "57 Episode finished after 13 timesteps\n",
      "58 Episode finished after 17 timesteps\n",
      "59 Episode finished after 29 timesteps\n",
      "60 Episode finished after 20 timesteps\n",
      "61 Episode finished after 33 timesteps\n",
      "62 Episode finished after 38 timesteps\n",
      "63 Episode finished after 24 timesteps\n",
      "64 Episode finished after 29 timesteps\n",
      "65 Episode finished after 24 timesteps\n",
      "66 Episode finished after 36 timesteps\n",
      "67 Episode finished after 23 timesteps\n",
      "68 Episode finished after 23 timesteps\n",
      "69 Episode finished after 21 timesteps\n",
      "70 Episode finished after 10 timesteps\n",
      "71 Episode finished after 16 timesteps\n",
      "72 Episode finished after 17 timesteps\n",
      "73 Episode finished after 15 timesteps\n",
      "74 Episode finished after 13 timesteps\n",
      "75 Episode finished after 22 timesteps\n",
      "76 Episode finished after 14 timesteps\n",
      "77 Episode finished after 49 timesteps\n",
      "78 Episode finished after 16 timesteps\n",
      "79 Episode finished after 25 timesteps\n",
      "80 Episode finished after 16 timesteps\n",
      "81 Episode finished after 26 timesteps\n",
      "82 Episode finished after 16 timesteps\n",
      "83 Episode finished after 16 timesteps\n",
      "84 Episode finished after 16 timesteps\n",
      "85 Episode finished after 87 timesteps\n",
      "86 Episode finished after 24 timesteps\n",
      "87 Episode finished after 50 timesteps\n",
      "88 Episode finished after 34 timesteps\n",
      "89 Episode finished after 21 timesteps\n",
      "90 Episode finished after 14 timesteps\n",
      "91 Episode finished after 22 timesteps\n",
      "92 Episode finished after 29 timesteps\n",
      "93 Episode finished after 37 timesteps\n",
      "94 Episode finished after 18 timesteps\n",
      "95 Episode finished after 15 timesteps\n",
      "96 Episode finished after 9 timesteps\n",
      "97 Episode finished after 29 timesteps\n",
      "98 Episode finished after 70 timesteps\n",
      "99 Episode finished after 23 timesteps\n"
     ]
    }
   ],
   "source": [
    "import gym\n",
    "from gym import wrappers\n",
    "\n",
    "n_episode = 100\n",
    "env = gym.make('CartPole-v1')\n",
    "env = wrappers.Monitor(env, \"./gym-results\", force=True, video_callable=lambda episode_id: episode_id == n_episode - 1)\n",
    "\n",
    "for i_episode in range(n_episode):\n",
    "    observation = env.reset()  # 비디오 저장\n",
    "    for t in range(100):\n",
    "        # env.render()\n",
    "        # print(observation)\n",
    "        action = env.action_space.sample()\n",
    "        observation, reward, done, info = env.step(action)  # 프레임 저장\n",
    "        if done:\n",
    "            print(\"{} Episode finished after {} timesteps\".format(i_episode, t+1))\n",
    "            break\n",
    "env.close()"
   ]
  },
  {
   "cell_type": "code",
   "execution_count": 30,
   "metadata": {},
   "outputs": [
    {
     "output_type": "execute_result",
     "data": {
      "text/plain": [
       "<IPython.core.display.Video object>"
      ],
      "text/html": "<video src=\"./gym-results/openaigym.video.14.20032.video000099.mp4\" controls  >\n      Your browser does not support the <code>video</code> element.\n    </video>"
     },
     "metadata": {},
     "execution_count": 30
    }
   ],
   "source": [
    "\n",
    "from IPython.display import Video\n",
    "\n",
    "video_url = './gym-results/openaigym.video.{0}.video{1:0>6}.mp4'.format(env.file_infix, n_episode-1)\n",
    "Video(video_url)"
   ]
  },
  {
   "cell_type": "code",
   "execution_count": null,
   "metadata": {},
   "outputs": [],
   "source": []
  }
 ]
}