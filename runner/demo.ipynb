{
 "cells": [
  {
   "cell_type": "code",
   "execution_count": null,
   "source": [
    "import gym\r\n",
    "\r\n",
    "env = gym.make('LunarLander-v2')\r\n",
    "print(dir(env))\r\n",
    "print(f'{env._max_episode_steps=}')\r\n",
    "print(f'{env.action_space=}')\r\n",
    "print(f'{env.metadata=}')\r\n",
    "print(f'{env.observation_space.shape[0]=}')\r\n",
    "print(f'{env.reward_range=}')\r\n",
    "print(f'{env.seed=}')\r\n",
    "print(f'{env.spec=}')"
   ],
   "outputs": [],
   "metadata": {}
  },
  {
   "cell_type": "code",
   "execution_count": 1,
   "source": [
    "from pporunner import PPORunner, RunnerParams\r\n",
    "\r\n",
    "\"\"\"\r\n",
    "CartPole-v1\r\n",
    "LunarLander-v2\r\n",
    "\"\"\"\r\n",
    "\r\n",
    "# 학습 및 모델 저장\r\n",
    "# params = RunnerParams('CartPole-v1', train=True, save_model=True, max_episode=10000, record_baseline=499)\r\n",
    "\r\n",
    "# 모델 불러오기 및 테스트\r\n",
    "params = RunnerParams('CartPole-v1', train=False, load_model=True, load_name='ppo-CartPole-v1-1631630795.pt', max_video=2)\r\n",
    "\r\n",
    "# params = RunnerParams('LunarLander-v2', train=True, save_model=True, max_episode=100000, record_baseline=150, max_video=2)\r\n",
    "runner = PPORunner(params)\r\n",
    "runner.run()"
   ],
   "outputs": [
    {
     "output_type": "stream",
     "name": "stdout",
     "text": [
      "n_epi=1 시작\n",
      "n_epi=2 시작\n",
      "n_epi=3 시작\n",
      "n_epi=4 시작\n",
      "n_epi=5 시작\n",
      "n_epi=6 시작\n",
      "n_epi=7 시작\n",
      "n_epi=8 시작\n",
      "n_epi=9 시작\n",
      "n_epi=10 시작\n",
      "n_epi=11 시작\n",
      "n_epi=12 시작\n",
      "n_epi=13 시작\n",
      "n_epi=14 시작\n",
      "n_epi=15 시작\n",
      "n_epi=16 시작\n",
      "n_epi=17 시작\n",
      "n_epi=18 시작\n",
      "n_epi=19 시작\n",
      "n_epi=20 시작\n",
      "n_epi=20를 저장\n",
      "# of episode: 20, avg score: 500.0\n",
      "n_epi=21 시작\n"
     ]
    },
    {
     "output_type": "stream",
     "name": "stderr",
     "text": [
      "C:\\Users\\kuro1\\anaconda3\\envs\\py38-pytorch-gpu\\lib\\site-packages\\pyglet\\image\\codecs\\wic.py:289: UserWarning: [WinError -2147417850] 스레드 모드가 설정된 후에는 바꿀 수 없습니다\n",
      "  warnings.warn(str(err))\n"
     ]
    },
    {
     "output_type": "stream",
     "name": "stdout",
     "text": [
      "n_epi=22 시작\n",
      "n_epi=23 시작\n",
      "n_epi=24 시작\n",
      "n_epi=25 시작\n",
      "n_epi=26 시작\n",
      "n_epi=27 시작\n",
      "n_epi=28 시작\n",
      "n_epi=29 시작\n",
      "n_epi=30 시작\n",
      "n_epi=31 시작\n",
      "n_epi=32 시작\n",
      "n_epi=33 시작\n",
      "n_epi=34 시작\n",
      "n_epi=35 시작\n",
      "n_epi=36 시작\n",
      "n_epi=37 시작\n",
      "n_epi=38 시작\n",
      "n_epi=39 시작\n",
      "n_epi=40 시작\n",
      "n_epi=40를 저장\n",
      "마지막 비디오\n",
      "# of episode: 40, avg score: 485.2\n",
      "n_epi=41 시작\n"
     ]
    }
   ],
   "metadata": {}
  },
  {
   "cell_type": "code",
   "execution_count": null,
   "source": [
    "import os\r\n",
    "\r\n",
    "home_path = os.path.expanduser('~')\r\n",
    "cur_path = os.getcwd()\r\n",
    "conda_path = home_path + \"\\\\anaconda3\"\r\n",
    "conda_script_path = home_path + \"\\\\anaconda3\\\\Scripts\\\\activate.bat\"\r\n",
    "exc = ' '.join(['start', '%windir%\\System32\\cmd.exe \"/K\"', conda_script_path, conda_path])\r\n",
    "!$exc\r\n",
    "\r\n",
    "'conda activate py38-pytorch-gpu && tensorboard --port=6006 --logdir=runs'\r\n",
    "'http://localhost:6006/'"
   ],
   "outputs": [],
   "metadata": {}
  }
 ],
 "metadata": {
  "orig_nbformat": 4,
  "language_info": {
   "name": "python",
   "version": "3.8.11",
   "mimetype": "text/x-python",
   "codemirror_mode": {
    "name": "ipython",
    "version": 3
   },
   "pygments_lexer": "ipython3",
   "nbconvert_exporter": "python",
   "file_extension": ".py"
  },
  "kernelspec": {
   "name": "python3",
   "display_name": "Python 3.8.11 64-bit ('py38-pytorch-gpu': conda)"
  },
  "interpreter": {
   "hash": "92bb61e8f2b0dcdaa21cd71aad1d97e3da046ad8a677ac321cbd25d595832889"
  }
 },
 "nbformat": 4,
 "nbformat_minor": 2
}