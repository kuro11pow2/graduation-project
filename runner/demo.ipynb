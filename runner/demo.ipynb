{
 "cells": [
  {
   "cell_type": "code",
   "execution_count": 2,
   "source": [
    "import gym\r\n",
    "\r\n",
    "env = gym.make('LunarLander-v2')\r\n",
    "print(dir(env))\r\n",
    "print(f'{env._max_episode_steps=}')\r\n",
    "print(f'{env.action_space=}')\r\n",
    "print(f'{env.metadata=}')\r\n",
    "print(f'{env.observation_space.shape[0]=}')\r\n",
    "print(f'{env.reward_range=}')\r\n",
    "print(f'{env.seed=}')\r\n",
    "print(f'{env.spec=}')"
   ],
   "outputs": [
    {
     "output_type": "stream",
     "name": "stdout",
     "text": [
      "['__class__', '__delattr__', '__dict__', '__dir__', '__doc__', '__enter__', '__eq__', '__exit__', '__format__', '__ge__', '__getattr__', '__getattribute__', '__gt__', '__hash__', '__init__', '__init_subclass__', '__le__', '__lt__', '__module__', '__ne__', '__new__', '__reduce__', '__reduce_ex__', '__repr__', '__setattr__', '__sizeof__', '__str__', '__subclasshook__', '__weakref__', '_elapsed_steps', '_max_episode_steps', 'action_space', 'class_name', 'close', 'compute_reward', 'env', 'metadata', 'observation_space', 'render', 'reset', 'reward_range', 'seed', 'spec', 'step', 'unwrapped']\n",
      "env._max_episode_steps=1000\n",
      "env.action_space=Discrete(4)\n",
      "env.metadata={'render.modes': ['human', 'rgb_array'], 'video.frames_per_second': 50}\n",
      "env.observation_space.shape[0]=8\n",
      "env.reward_range=(-inf, inf)\n",
      "env.seed=<bound method Wrapper.seed of <TimeLimit<LunarLander<LunarLander-v2>>>>\n",
      "env.spec=EnvSpec(LunarLander-v2)\n"
     ]
    }
   ],
   "metadata": {}
  },
  {
   "cell_type": "code",
   "execution_count": 1,
   "source": [
    "from pporunner import PPORunner\r\n",
    "\r\n",
    "runner = PPORunner('LunarLander-v2')\r\n",
    "runner.run()"
   ],
   "outputs": [
    {
     "output_type": "stream",
     "name": "stdout",
     "text": [
      "# of episode: 20, avg score: -219.2\n",
      "# of episode: 40, avg score: -218.0\n",
      "# of episode: 60, avg score: -221.0\n",
      "# of episode: 80, avg score: -188.4\n",
      "# of episode: 100, avg score: -188.0\n",
      "# of episode: 120, avg score: -250.1\n",
      "# of episode: 140, avg score: -200.0\n",
      "# of episode: 160, avg score: -218.2\n",
      "# of episode: 180, avg score: -235.0\n",
      "# of episode: 200, avg score: -189.8\n",
      "# of episode: 220, avg score: -242.3\n",
      "# of episode: 240, avg score: -169.2\n",
      "# of episode: 260, avg score: -203.7\n",
      "# of episode: 280, avg score: -132.5\n",
      "# of episode: 300, avg score: -187.8\n",
      "# of episode: 320, avg score: -201.0\n",
      "# of episode: 340, avg score: -168.2\n",
      "# of episode: 360, avg score: -186.0\n",
      "# of episode: 380, avg score: -159.1\n",
      "# of episode: 400, avg score: -175.3\n",
      "# of episode: 420, avg score: -111.5\n",
      "# of episode: 440, avg score: -150.9\n",
      "# of episode: 460, avg score: -164.0\n",
      "# of episode: 480, avg score: -178.7\n",
      "# of episode: 500, avg score: -171.4\n",
      "# of episode: 520, avg score: -193.9\n",
      "# of episode: 540, avg score: -205.4\n",
      "# of episode: 560, avg score: -211.2\n",
      "# of episode: 580, avg score: -142.2\n",
      "# of episode: 600, avg score: -215.7\n",
      "# of episode: 620, avg score: -163.0\n",
      "# of episode: 640, avg score: -158.5\n",
      "# of episode: 660, avg score: -170.1\n",
      "# of episode: 680, avg score: -175.1\n",
      "# of episode: 700, avg score: -179.8\n",
      "# of episode: 720, avg score: -107.9\n",
      "# of episode: 740, avg score: -91.5\n",
      "# of episode: 760, avg score: -156.7\n",
      "# of episode: 780, avg score: -151.0\n",
      "# of episode: 800, avg score: -119.5\n",
      "# of episode: 820, avg score: -163.8\n",
      "# of episode: 840, avg score: -166.9\n",
      "# of episode: 860, avg score: -47.0\n",
      "# of episode: 880, avg score: -111.0\n",
      "# of episode: 900, avg score: -61.2\n",
      "# of episode: 920, avg score: -119.1\n",
      "# of episode: 940, avg score: -101.7\n",
      "# of episode: 960, avg score: -103.4\n",
      "# of episode: 980, avg score: -35.3\n",
      "# of episode: 1000, avg score: -98.9\n",
      "# of episode: 1020, avg score: -88.9\n",
      "# of episode: 1040, avg score: -95.7\n",
      "# of episode: 1060, avg score: -51.7\n",
      "# of episode: 1080, avg score: -54.2\n",
      "# of episode: 1100, avg score: -68.0\n",
      "# of episode: 1120, avg score: -49.2\n",
      "# of episode: 1140, avg score: -35.8\n",
      "# of episode: 1160, avg score: -68.1\n",
      "# of episode: 1180, avg score: -65.4\n",
      "# of episode: 1200, avg score: -58.4\n",
      "# of episode: 1220, avg score: -53.6\n",
      "# of episode: 1240, avg score: -44.3\n",
      "# of episode: 1260, avg score: -43.8\n",
      "# of episode: 1280, avg score: -27.0\n",
      "# of episode: 1300, avg score: -15.7\n",
      "# of episode: 1320, avg score: -14.6\n",
      "# of episode: 1340, avg score: -34.2\n",
      "# of episode: 1360, avg score: -37.8\n",
      "# of episode: 1380, avg score: -11.4\n",
      "# of episode: 1400, avg score: 0.3\n"
     ]
    },
    {
     "output_type": "stream",
     "name": "stderr",
     "text": [
      "C:\\Users\\kuro1\\anaconda3\\envs\\py38-pytorch-gpu\\lib\\site-packages\\pyglet\\image\\codecs\\wic.py:289: UserWarning: [WinError -2147417850] 스레드 모드가 설정된 후에는 바꿀 수 없습니다\n",
      "  warnings.warn(str(err))\n"
     ]
    },
    {
     "output_type": "stream",
     "name": "stdout",
     "text": [
      "# of episode: 1420, avg score: -26.2\n",
      "# of episode: 1440, avg score: 17.5\n",
      "# of episode: 1460, avg score: -5.0\n",
      "# of episode: 1480, avg score: -11.2\n",
      "# of episode: 1500, avg score: 13.6\n"
     ]
    }
   ],
   "metadata": {}
  },
  {
   "cell_type": "code",
   "execution_count": 3,
   "source": [
    "import os\r\n",
    "\r\n",
    "home_path = os.path.expanduser('~')\r\n",
    "cur_path = os.getcwd()\r\n",
    "conda_path = home_path + \"\\\\anaconda3\"\r\n",
    "conda_script_path = home_path + \"\\\\anaconda3\\\\Scripts\\\\activate.bat\"\r\n",
    "exc = ' '.join(['start', '%windir%\\System32\\cmd.exe \"/K\"', conda_script_path, conda_path])\r\n",
    "!$exc\r\n",
    "\r\n",
    "'conda activate py38-pytorch-gpu && tensorboard --port=6006 --logdir=runs'\r\n",
    "'http://localhost:6006/'"
   ],
   "outputs": [
    {
     "output_type": "stream",
     "name": "stdout",
     "text": [
      "conda activate py38-pytorch-gpu && tensorboard --port=6006 --logdir=runs\n",
      "http://localhost:6006/\n"
     ]
    }
   ],
   "metadata": {}
  }
 ],
 "metadata": {
  "orig_nbformat": 4,
  "language_info": {
   "name": "python",
   "version": "3.8.11",
   "mimetype": "text/x-python",
   "codemirror_mode": {
    "name": "ipython",
    "version": 3
   },
   "pygments_lexer": "ipython3",
   "nbconvert_exporter": "python",
   "file_extension": ".py"
  },
  "kernelspec": {
   "name": "python3",
   "display_name": "Python 3.8.11 64-bit ('py38-pytorch-gpu': conda)"
  },
  "interpreter": {
   "hash": "92bb61e8f2b0dcdaa21cd71aad1d97e3da046ad8a677ac321cbd25d595832889"
  }
 },
 "nbformat": 4,
 "nbformat_minor": 2
}