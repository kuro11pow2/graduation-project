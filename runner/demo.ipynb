{
 "cells": [
  {
   "cell_type": "code",
   "execution_count": null,
   "source": [
    "import gym\r\n",
    "\r\n",
    "env = gym.make('LunarLander-v2')\r\n",
    "print(dir(env))\r\n",
    "print(f'{env._max_episode_steps=}')\r\n",
    "print(f'{env.action_space=}')\r\n",
    "print(f'{env.metadata=}')\r\n",
    "print(f'{env.observation_space.shape[0]=}')\r\n",
    "print(f'{env.reward_range=}')\r\n",
    "print(f'{env.seed=}')\r\n",
    "print(f'{env.spec=}')"
   ],
   "outputs": [],
   "metadata": {}
  },
  {
   "cell_type": "code",
   "execution_count": null,
   "source": [
    "\r\n",
    "\r\n",
    "def manual_run():\r\n",
    "    from algorithms.actorcritic_runner import ActorCriticRunner\r\n",
    "    from algorithms.actorcritic import ActorCriticParams \r\n"
   ],
   "outputs": [],
   "metadata": {}
  },
  {
   "cell_type": "code",
   "execution_count": null,
   "source": [
    "# 알고리즘 테스트 \r\n",
    "\r\n",
    "# ppolstm\r\n",
    "from tester import RunnerTester\r\n",
    "from algorithms.ppolstm_runner import PPOlstmRunner\r\n",
    "from algorithms.ppolstm import PPOlstmParams\r\n",
    "from env import Env\r\n",
    "algo_params = PPOlstmParams()\r\n",
    "result = RunnerTester(PPOlstmRunner, algo_params, [Env.CARTPOLE]).test()\r\n",
    "print('통과' if result else '실패')\r\n",
    "\r\n",
    "# from tester import RunnerTester\r\n",
    "# from algorithms.actorcritic_runner import ActorCriticRunner\r\n",
    "# from algorithms.actorcritic import ActorCriticParams\r\n",
    "# from env import Env\r\n",
    "# algo_params = ActorCriticParams()\r\n",
    "# result = RunnerTester(ActorCriticRunner, algo_params, [Env.CARTPOLE]).test()\r\n",
    "# print('통과' if result else '실패')"
   ],
   "outputs": [],
   "metadata": {}
  },
  {
   "cell_type": "code",
   "execution_count": null,
   "source": [
    "import os\r\n",
    "\r\n",
    "home_path = os.path.expanduser('~')\r\n",
    "cur_path = os.getcwd()\r\n",
    "conda_path = home_path + \"\\\\anaconda3\"\r\n",
    "conda_script_path = home_path + \"\\\\anaconda3\\\\Scripts\\\\activate.bat\"\r\n",
    "exc = ' '.join(['start', '%windir%\\System32\\cmd.exe \"/K\"', conda_script_path, conda_path])\r\n",
    "!$exc\r\n",
    "\r\n",
    "'conda activate py38-pytorch-gpu && tensorboard --port=6006 --logdir=runs'\r\n",
    "'http://localhost:6006/'\r\n"
   ],
   "outputs": [],
   "metadata": {}
  }
 ],
 "metadata": {
  "orig_nbformat": 4,
  "language_info": {
   "name": "python",
   "version": "3.8.11",
   "mimetype": "text/x-python",
   "codemirror_mode": {
    "name": "ipython",
    "version": 3
   },
   "pygments_lexer": "ipython3",
   "nbconvert_exporter": "python",
   "file_extension": ".py"
  },
  "kernelspec": {
   "name": "python3",
   "display_name": "Python 3.8.11 64-bit ('py38-pytorch-gpu': conda)"
  },
  "interpreter": {
   "hash": "92bb61e8f2b0dcdaa21cd71aad1d97e3da046ad8a677ac321cbd25d595832889"
  }
 },
 "nbformat": 4,
 "nbformat_minor": 2
}