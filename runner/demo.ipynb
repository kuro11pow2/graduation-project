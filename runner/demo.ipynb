{
 "cells": [
  {
   "cell_type": "code",
   "execution_count": null,
   "source": [
    "import gym\r\n",
    "\r\n",
    "env = gym.make('LunarLander-v2')\r\n",
    "print(dir(env))\r\n",
    "print(f'{env._max_episode_steps=}')\r\n",
    "print(f'{env.action_space=}')\r\n",
    "print(f'{env.metadata=}')\r\n",
    "print(f'{env.observation_space.shape[0]=}')\r\n",
    "print(f'{env.reward_range=}')\r\n",
    "print(f'{env.seed=}')\r\n",
    "print(f'{env.spec=}')"
   ],
   "outputs": [],
   "metadata": {}
  },
  {
   "cell_type": "code",
   "execution_count": 2,
   "source": [
    "from runner import RunnerParams\r\n",
    "from ppo_runner import PPORunner\r\n",
    "from ppolstm_runner import PPOlstmRunner\r\n",
    "\r\n",
    "\"\"\"\r\n",
    "CartPole-v1\r\n",
    "LunarLander-v2\r\n",
    "\"\"\"\r\n",
    "\r\n",
    "# 학습 및 모델 저장\r\n",
    "params = RunnerParams(train=True, save_model=True, max_episode=10000, record_baseline=100)\r\n",
    "\r\n",
    "# 모델 불러오기 및 테스트\r\n",
    "# params = RunnerParams('CartPole-v1', train=False, load_model=True, load_name='ppo-CartPole-v1-1631630795.pt', max_video=2)\r\n",
    "\r\n",
    "runner = PPOlstmRunner('LunarLander-v2', params)\r\n",
    "runner.run()"
   ],
   "outputs": [
    {
     "output_type": "stream",
     "name": "stdout",
     "text": [
      "초기 설정 시작\n",
      "시뮬레이션 시작\n",
      "# of episode: 20, avg score: -192.8\n",
      "# of episode: 40, avg score: -204.9\n",
      "# of episode: 60, avg score: -194.4\n",
      "# of episode: 80, avg score: -220.1\n",
      "# of episode: 100, avg score: -208.3\n",
      "# of episode: 120, avg score: -265.0\n",
      "# of episode: 140, avg score: -241.6\n",
      "# of episode: 160, avg score: -253.1\n",
      "# of episode: 180, avg score: -196.8\n",
      "# of episode: 200, avg score: -209.3\n",
      "# of episode: 220, avg score: -170.9\n",
      "# of episode: 240, avg score: -187.6\n",
      "# of episode: 260, avg score: -182.9\n",
      "# of episode: 280, avg score: -187.2\n",
      "# of episode: 300, avg score: -161.5\n",
      "# of episode: 320, avg score: -152.2\n",
      "# of episode: 340, avg score: -177.3\n",
      "# of episode: 360, avg score: -144.1\n",
      "# of episode: 380, avg score: -177.6\n",
      "# of episode: 400, avg score: -197.3\n",
      "# of episode: 420, avg score: -165.5\n",
      "# of episode: 440, avg score: -157.0\n",
      "# of episode: 460, avg score: -174.7\n",
      "# of episode: 480, avg score: -164.7\n",
      "# of episode: 500, avg score: -170.6\n",
      "# of episode: 520, avg score: -147.6\n",
      "# of episode: 540, avg score: -149.5\n",
      "# of episode: 560, avg score: -195.0\n",
      "# of episode: 580, avg score: -145.4\n",
      "# of episode: 600, avg score: -147.1\n",
      "# of episode: 620, avg score: -173.9\n",
      "# of episode: 640, avg score: -135.6\n",
      "# of episode: 660, avg score: -130.0\n",
      "# of episode: 680, avg score: -133.4\n",
      "# of episode: 700, avg score: -116.5\n",
      "# of episode: 720, avg score: -90.5\n",
      "# of episode: 740, avg score: -71.4\n",
      "# of episode: 760, avg score: -54.4\n",
      "# of episode: 780, avg score: -64.7\n",
      "# of episode: 800, avg score: -2.1\n",
      "# of episode: 820, avg score: -68.3\n",
      "# of episode: 840, avg score: -85.8\n",
      "# of episode: 860, avg score: -9.8\n",
      "# of episode: 880, avg score: -44.4\n",
      "# of episode: 900, avg score: 47.5\n",
      "# of episode: 920, avg score: 67.5\n",
      "# of episode: 940, avg score: 40.9\n",
      "n_epi=960 비디오 저장\n",
      "# of episode: 960, avg score: 111.8\n",
      "# of episode: 980, avg score: 89.1\n",
      "# of episode: 1000, avg score: 92.5\n",
      "n_epi=1020 비디오 저장\n",
      "# of episode: 1020, avg score: 141.0\n",
      "n_epi=1040 비디오 저장\n",
      "# of episode: 1040, avg score: 127.9\n",
      "시뮬레이션 종료\n",
      "모델 저장 시작\n"
     ]
    }
   ],
   "metadata": {}
  },
  {
   "cell_type": "code",
   "execution_count": null,
   "source": [
    "import os\r\n",
    "\r\n",
    "home_path = os.path.expanduser('~')\r\n",
    "cur_path = os.getcwd()\r\n",
    "conda_path = home_path + \"\\\\anaconda3\"\r\n",
    "conda_script_path = home_path + \"\\\\anaconda3\\\\Scripts\\\\activate.bat\"\r\n",
    "exc = ' '.join(['start', '%windir%\\System32\\cmd.exe \"/K\"', conda_script_path, conda_path])\r\n",
    "!$exc\r\n",
    "\r\n",
    "'conda activate py38-pytorch-gpu && tensorboard --port=6006 --logdir=runs'\r\n",
    "'http://localhost:6006/'\r\n"
   ],
   "outputs": [],
   "metadata": {}
  }
 ],
 "metadata": {
  "orig_nbformat": 4,
  "language_info": {
   "name": "python",
   "version": "3.8.11",
   "mimetype": "text/x-python",
   "codemirror_mode": {
    "name": "ipython",
    "version": 3
   },
   "pygments_lexer": "ipython3",
   "nbconvert_exporter": "python",
   "file_extension": ".py"
  },
  "kernelspec": {
   "name": "python3",
   "display_name": "Python 3.8.11 64-bit ('py38-pytorch-gpu': conda)"
  },
  "interpreter": {
   "hash": "92bb61e8f2b0dcdaa21cd71aad1d97e3da046ad8a677ac321cbd25d595832889"
  }
 },
 "nbformat": 4,
 "nbformat_minor": 2
}