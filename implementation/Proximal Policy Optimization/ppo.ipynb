{
 "cells": [
  {
   "cell_type": "code",
   "execution_count": 1,
   "source": [
    "import sys, os\r\n",
    "\r\n",
    "ppath = lambda x: os.path.dirname(os.path.abspath(x))\r\n",
    "file_name = os.getcwd()\r\n",
    "sys.path.append(ppath(ppath(file_name)))\r\n",
    "\r\n",
    "from recorder.recorder import *"
   ],
   "outputs": [],
   "metadata": {}
  },
  {
   "cell_type": "code",
   "execution_count": 2,
   "source": [
    "import gym\r\n",
    "\r\n",
    "from ppo import *\r\n",
    "from torch.distributions import Categorical"
   ],
   "outputs": [],
   "metadata": {}
  },
  {
   "cell_type": "code",
   "execution_count": 3,
   "source": [
    "def main():\r\n",
    "    recorder = Recorder(gym.make('CartPole-v1'), False)\r\n",
    "    env = recorder.wrapped_env()\r\n",
    "    model = PPO()\r\n",
    "    score = 0.0\r\n",
    "    print_interval = 20\r\n",
    "\r\n",
    "    for n_epi in range(10000):\r\n",
    "        s = env.reset()\r\n",
    "        done = False\r\n",
    "        while not done:\r\n",
    "            for t in range(T_horizon):\r\n",
    "                prob = model.pi(torch.from_numpy(s).float())\r\n",
    "                m = Categorical(prob)\r\n",
    "                a = m.sample().item()\r\n",
    "                s_prime, r, done, info = env.step(a)\r\n",
    "                \r\n",
    "                # r은 크기가 너무 커서 1/100을 했다. 그래야 학습이 잘 됨.\r\n",
    "                # prob[a].item()은 a를 할 확률을 말함\r\n",
    "                model.put_data((s, a, r/100.0, s_prime, prob[a].item(), done))\r\n",
    "                s = s_prime\r\n",
    "\r\n",
    "                score += r\r\n",
    "                if done:\r\n",
    "                    break\r\n",
    "\r\n",
    "            model.train_net()\r\n",
    "        \r\n",
    "        if score / print_interval > 499:\r\n",
    "            recorder.update([n_epi + 1])\r\n",
    "            if (len(recorder.recorded_epi()) > 5):\r\n",
    "                env.reset()\r\n",
    "                break\r\n",
    "\r\n",
    "        if n_epi%print_interval==0 and n_epi!=0:\r\n",
    "            print(\"# of episode: {}, avg score: {:.1f}\".format(n_epi, score/print_interval))\r\n",
    "            score = 0.0\r\n",
    "\r\n",
    "    env.close()"
   ],
   "outputs": [],
   "metadata": {}
  },
  {
   "cell_type": "code",
   "execution_count": 4,
   "source": [
    "if __name__ == '__main__':\r\n",
    "    main()"
   ],
   "outputs": [
    {
     "output_type": "stream",
     "name": "stdout",
     "text": [
      "# of episode :20, avg score : 37.1\n",
      "# of episode :40, avg score : 45.5\n",
      "# of episode :60, avg score : 60.6\n",
      "# of episode :80, avg score : 74.5\n",
      "# of episode :100, avg score : 35.0\n",
      "# of episode :120, avg score : 80.5\n",
      "# of episode :140, avg score : 73.8\n",
      "# of episode :160, avg score : 129.2\n",
      "# of episode :180, avg score : 94.8\n",
      "# of episode :200, avg score : 163.7\n",
      "# of episode :220, avg score : 127.8\n",
      "# of episode :240, avg score : 250.9\n",
      "# of episode :260, avg score : 247.9\n",
      "# of episode :280, avg score : 217.1\n",
      "# of episode :300, avg score : 276.6\n",
      "# of episode :320, avg score : 288.4\n",
      "# of episode :340, avg score : 326.6\n",
      "# of episode :360, avg score : 245.8\n",
      "# of episode :380, avg score : 142.8\n",
      "# of episode :400, avg score : 205.7\n",
      "# of episode :420, avg score : 274.6\n",
      "# of episode :440, avg score : 361.6\n",
      "# of episode :460, avg score : 451.1\n",
      "# of episode :480, avg score : 433.4\n",
      "# of episode :500, avg score : 397.1\n",
      "# of episode :520, avg score : 316.7\n",
      "# of episode :540, avg score : 216.7\n",
      "# of episode :560, avg score : 350.9\n",
      "# of episode :580, avg score : 316.6\n",
      "# of episode :600, avg score : 169.5\n",
      "# of episode :620, avg score : 286.1\n",
      "# of episode :640, avg score : 201.2\n",
      "# of episode :660, avg score : 328.4\n",
      "# of episode :680, avg score : 302.8\n",
      "# of episode :700, avg score : 64.6\n",
      "# of episode :720, avg score : 77.8\n",
      "# of episode :740, avg score : 85.8\n",
      "# of episode :760, avg score : 104.2\n",
      "# of episode :780, avg score : 189.1\n",
      "# of episode :800, avg score : 142.3\n",
      "# of episode :820, avg score : 124.5\n",
      "# of episode :840, avg score : 196.2\n",
      "# of episode :860, avg score : 212.9\n",
      "# of episode :880, avg score : 260.6\n",
      "# of episode :900, avg score : 322.2\n",
      "# of episode :920, avg score : 371.9\n",
      "# of episode :940, avg score : 436.9\n",
      "# of episode :960, avg score : 437.3\n",
      "# of episode :980, avg score : 494.4\n",
      "# of episode :1000, avg score : 500.0\n",
      "# of episode :1020, avg score : 460.4\n",
      "# of episode :1040, avg score : 270.1\n",
      "# of episode :1060, avg score : 471.4\n",
      "# of episode :1080, avg score : 496.1\n",
      "# of episode :1100, avg score : 499.3\n",
      "# of episode :1120, avg score : 498.6\n",
      "# of episode :1140, avg score : 326.9\n",
      "# of episode :1160, avg score : 442.6\n",
      "# of episode :1180, avg score : 500.0\n",
      "# of episode :1200, avg score : 500.0\n",
      "# of episode :1220, avg score : 376.2\n",
      "# of episode :1240, avg score : 310.1\n",
      "# of episode :1260, avg score : 416.0\n",
      "# of episode :1280, avg score : 492.4\n",
      "# of episode :1300, avg score : 500.0\n"
     ]
    }
   ],
   "metadata": {}
  }
 ],
 "metadata": {
  "orig_nbformat": 4,
  "language_info": {
   "name": "python",
   "version": "3.8.11",
   "mimetype": "text/x-python",
   "codemirror_mode": {
    "name": "ipython",
    "version": 3
   },
   "pygments_lexer": "ipython3",
   "nbconvert_exporter": "python",
   "file_extension": ".py"
  },
  "kernelspec": {
   "name": "python3",
   "display_name": "Python 3.8.11 64-bit ('py38-pytorch-gpu': conda)"
  },
  "interpreter": {
   "hash": "92bb61e8f2b0dcdaa21cd71aad1d97e3da046ad8a677ac321cbd25d595832889"
  }
 },
 "nbformat": 4,
 "nbformat_minor": 2
}