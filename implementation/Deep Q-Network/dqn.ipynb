{
 "cells": [
  {
   "cell_type": "code",
   "execution_count": 1,
   "source": [
    "import sys, os\r\n",
    "ppath = lambda x : os.path.dirname(os.path.abspath(x))\r\n",
    "file_name = os.getcwd()\r\n",
    "sys.path.append(ppath(ppath(file_name)))\r\n",
    "\r\n",
    "from recorder.recorder import Recorder"
   ],
   "outputs": [],
   "metadata": {}
  },
  {
   "cell_type": "code",
   "execution_count": 2,
   "source": [
    "import gym\r\n",
    "from dqn import *\r\n",
    "import torch.optim as optim"
   ],
   "outputs": [],
   "metadata": {}
  },
  {
   "cell_type": "code",
   "execution_count": 3,
   "source": [
    "# conda install pytorch torchvision -c pytorch\r\n",
    "# conda install -c conda-forge tensorboard\r\n",
    "\r\n",
    "from torch.utils.tensorboard import SummaryWriter"
   ],
   "outputs": [],
   "metadata": {}
  },
  {
   "cell_type": "code",
   "execution_count": 4,
   "source": [
    "def main():\r\n",
    "    recorder = Recorder(gym.make('CartPole-v1'), False)\r\n",
    "    env = recorder.wrapped_env()\r\n",
    "    writer = SummaryWriter()\r\n",
    "    \r\n",
    "    # 네트워크를 두 개 정의함.\r\n",
    "    q = Qnet()\r\n",
    "    q_target = Qnet()\r\n",
    "\r\n",
    "    # q를 q_target으로 복사함.\r\n",
    "    # q.state_dict()는 model의 weight를 dictionary 형태로 저장하고 있음.\r\n",
    "    # 이걸 q_target으로 불러온다는 것.\r\n",
    "    q_target.load_state_dict(q.state_dict())\r\n",
    "\r\n",
    "    # replay buffer용 메모리 정의\r\n",
    "    memory = ReplayBuffer()\r\n",
    "\r\n",
    "    print_interval = 20\r\n",
    "    score = 0.0  \r\n",
    "\r\n",
    "    # q만 업데이트한다. q_target은 안 한다!!\r\n",
    "    # gradient update가 q 네트워크만 업데이트함.\r\n",
    "    # q_target은 고정해두고 주기적으로 q의 weight를 가져오기만 하면 됨.\r\n",
    "    optimizer = optim.Adam(q.parameters(), lr=learning_rate)\r\n",
    "\r\n",
    "    # 에피소드 시뮬레이션\r\n",
    "    for n_epi in range(10000):\r\n",
    "        # 입실론 값을 에피소드 진행에 따라 linear하게 감소시킨다.\r\n",
    "        # 8% -> 1%\r\n",
    "        epsilon = max(0.01, 0.08 - 0.01*(n_epi/200)) \r\n",
    "        # 환경 초기화하고 상태 받음\r\n",
    "        s = env.reset()\r\n",
    "        done = False\r\n",
    "\r\n",
    "        while not done:\r\n",
    "            # 입실론 그리디로 액선 하나 선택\r\n",
    "            a = q.sample_action(torch.from_numpy(s).float(), epsilon)      \r\n",
    "            # 환경에 주고 obs 받아옴\r\n",
    "            s_prime, r, done, info = env.step(a)\r\n",
    "            # done_mask는 게임이 끝나면 0, 안 끝나면 1임.\r\n",
    "            # TD target 구할 때 게임 끝난 후의 값이 적용되지 않게 곱해주는 값임.\r\n",
    "            done_mask = 0.0 if done else 1.0\r\n",
    "            # done_mask도 replay buffer에 같이 넣음\r\n",
    "            memory.put((s,a,r/100.0,s_prime, done_mask))\r\n",
    "            s = s_prime\r\n",
    "\r\n",
    "            score += r\r\n",
    "            if done:\r\n",
    "                break\r\n",
    "        \r\n",
    "        # 메모리가 충분히 쌓이면 학습을 시작\r\n",
    "        if memory.size()>2000:\r\n",
    "            train(q, q_target, memory, optimizer)\r\n",
    "        \r\n",
    "        if score/print_interval > 200:\r\n",
    "            recorder.update([n_epi + 1])\r\n",
    "            \r\n",
    "        if len(recorder.recorded_epi()) >= 5:\r\n",
    "            env.reset() # 마지막 에피소드 비디오 마무리\r\n",
    "            break\r\n",
    "\r\n",
    "        \r\n",
    "        # interval마다, 최근 interval개 에피소드 평균 time-step 계산하고\r\n",
    "        # Q target을 Q로 업데이트함.\r\n",
    "        if n_epi%print_interval==0 and n_epi!=0:\r\n",
    "            q_target.load_state_dict(q.state_dict())\r\n",
    "            print(f\"n_episode :{n_epi}, \"\\\r\n",
    "                    + f\"score : {score/print_interval:.1f}, \"\\\r\n",
    "                    + f\"n_buffer : {memory.size()}, \"\\\r\n",
    "                    + f\"eps : {epsilon*100:.1f}%\")\r\n",
    "            writer.add_scalar(\"score/train\", score/print_interval, n_epi)\r\n",
    "            score = 0.0\r\n",
    "\r\n",
    "    writer.flush()\r\n",
    "    writer.close()\r\n",
    "    env.close()"
   ],
   "outputs": [],
   "metadata": {}
  },
  {
   "cell_type": "code",
   "execution_count": 5,
   "source": [
    "if __name__ == '__main__':\r\n",
    "    main()"
   ],
   "outputs": [
    {
     "output_type": "stream",
     "name": "stdout",
     "text": [
      "n_episode :20, score : 10.3, n_buffer : 207, eps : 7.9%\n",
      "n_episode :40, score : 9.9, n_buffer : 405, eps : 7.8%\n",
      "n_episode :60, score : 10.1, n_buffer : 607, eps : 7.7%\n",
      "n_episode :80, score : 9.6, n_buffer : 798, eps : 7.6%\n",
      "n_episode :100, score : 9.3, n_buffer : 985, eps : 7.5%\n",
      "n_episode :120, score : 10.1, n_buffer : 1187, eps : 7.4%\n",
      "n_episode :140, score : 9.4, n_buffer : 1376, eps : 7.3%\n",
      "n_episode :160, score : 9.8, n_buffer : 1573, eps : 7.2%\n",
      "n_episode :180, score : 10.2, n_buffer : 1777, eps : 7.1%\n",
      "n_episode :200, score : 10.2, n_buffer : 1982, eps : 7.0%\n",
      "n_episode :220, score : 9.7, n_buffer : 2175, eps : 6.9%\n",
      "n_episode :240, score : 10.3, n_buffer : 2382, eps : 6.8%\n",
      "n_episode :260, score : 10.2, n_buffer : 2586, eps : 6.7%\n",
      "n_episode :280, score : 11.2, n_buffer : 2811, eps : 6.6%\n",
      "n_episode :300, score : 13.7, n_buffer : 3084, eps : 6.5%\n",
      "n_episode :320, score : 29.0, n_buffer : 3664, eps : 6.4%\n",
      "n_episode :340, score : 137.6, n_buffer : 6415, eps : 6.3%\n",
      "n_episode :360, score : 132.8, n_buffer : 9072, eps : 6.2%\n",
      "n_episode :380, score : 173.7, n_buffer : 12546, eps : 6.1%\n",
      "n_episode :400, score : 185.5, n_buffer : 16256, eps : 6.0%\n"
     ]
    },
    {
     "output_type": "stream",
     "name": "stderr",
     "text": [
      "C:\\Users\\kuro1\\anaconda3\\envs\\py38-pytorch-gpu\\lib\\site-packages\\pyglet\\image\\codecs\\wic.py:289: UserWarning: [WinError -2147417850] 스레드 모드가 설정된 후에는 바꿀 수 없습니다\n",
      "  warnings.warn(str(err))\n"
     ]
    },
    {
     "output_type": "stream",
     "name": "stdout",
     "text": [
      "n_episode :420, score : 223.9, n_buffer : 20735, eps : 5.9%\n"
     ]
    }
   ],
   "metadata": {}
  },
  {
   "cell_type": "code",
   "execution_count": 6,
   "source": [
    "home_path = os.path.expanduser('~')\r\n",
    "cur_path = os.getcwd()\r\n",
    "conda_path = home_path + \"\\\\anaconda3\"\r\n",
    "conda_script_path = home_path + \"\\\\anaconda3\\\\Scripts\\\\activate.bat\"\r\n",
    "exc = ' '.join(['start', '%windir%\\System32\\cmd.exe \"/K\"', conda_script_path, conda_path])\r\n",
    "!$exc\r\n",
    "print('conda activate py38-pytorch-gpu && tensorboard --port=6006 --logdir=runs http://localhost:6006/')"
   ],
   "outputs": [
    {
     "output_type": "stream",
     "name": "stdout",
     "text": [
      "# conda environments:\n",
      "#\n",
      "base                     C:\\Users\\kuro1\\anaconda3\n",
      "py38-pytorch-gpu      *  C:\\Users\\kuro1\\anaconda3\\envs\\py38-pytorch-gpu\n",
      "\n",
      "^C\n"
     ]
    }
   ],
   "metadata": {}
  }
 ],
 "metadata": {
  "orig_nbformat": 4,
  "language_info": {
   "name": "python",
   "version": "3.8.11",
   "mimetype": "text/x-python",
   "codemirror_mode": {
    "name": "ipython",
    "version": 3
   },
   "pygments_lexer": "ipython3",
   "nbconvert_exporter": "python",
   "file_extension": ".py"
  },
  "kernelspec": {
   "name": "python3",
   "display_name": "Python 3.8.11 64-bit ('py38-pytorch-gpu': conda)"
  },
  "interpreter": {
   "hash": "92bb61e8f2b0dcdaa21cd71aad1d97e3da046ad8a677ac321cbd25d595832889"
  }
 },
 "nbformat": 4,
 "nbformat_minor": 2
}