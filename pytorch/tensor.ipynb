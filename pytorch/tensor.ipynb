{
 "cells": [
  {
   "cell_type": "code",
   "execution_count": 12,
   "source": [
    "import torch\r\n",
    "import numpy as np"
   ],
   "outputs": [],
   "metadata": {}
  },
  {
   "cell_type": "code",
   "execution_count": 19,
   "source": [
    "data = [[1, 2], [3, 4]]\r\n",
    "nparr = np.array(data)\r\n"
   ],
   "outputs": [],
   "metadata": {}
  },
  {
   "cell_type": "code",
   "execution_count": 14,
   "source": [
    "def from_data():\r\n",
    "    x_data = torch.tensor(data)\r\n",
    "    print(x_data)\r\n",
    "\r\n",
    "from_data()\r\n"
   ],
   "outputs": [
    {
     "output_type": "stream",
     "name": "stdout",
     "text": [
      "tensor([[1, 2],\n",
      "        [3, 4]])\n"
     ]
    }
   ],
   "metadata": {}
  },
  {
   "cell_type": "code",
   "execution_count": 15,
   "source": [
    "def from_nparr():\r\n",
    "    x_np = torch.from_numpy(nparr)\r\n",
    "    print(x_np)\r\n",
    "\r\n",
    "from_nparr()\r\n"
   ],
   "outputs": [
    {
     "output_type": "stream",
     "name": "stdout",
     "text": [
      "tensor([[1, 2],\n",
      "        [3, 4]], dtype=torch.int32)\n"
     ]
    }
   ],
   "metadata": {}
  },
  {
   "cell_type": "code",
   "execution_count": 21,
   "source": [
    "def from_tensor():\r\n",
    "    x_data = torch.tensor(data)\r\n",
    "    x_ones = torch.ones_like(x_data)\r\n",
    "    x_rand = torch.rand_like(x_data, dtype=torch.float)\r\n",
    "    print(f'{x_ones}\\n{x_rand}')\r\n",
    "\r\n",
    "from_tensor()\r\n"
   ],
   "outputs": [
    {
     "output_type": "stream",
     "name": "stdout",
     "text": [
      "tensor([[1, 1],\n",
      "        [1, 1]])\n",
      "tensor([[0.3301, 0.5680],\n",
      "        [0.8497, 0.1193]])\n"
     ]
    }
   ],
   "metadata": {}
  },
  {
   "cell_type": "code",
   "execution_count": 22,
   "source": [
    "def rand_constant_tensor():\r\n",
    "    shape = (2, 3,) \r\n",
    "    rand_tensor = torch.rand(shape)\r\n",
    "    ones_tensor = torch.ones(shape)\r\n",
    "    zeros_tensor = torch.zeros(shape)\r\n",
    "    print(f'{rand_tensor}\\n{ones_tensor}\\n{zeros_tensor}')\r\n",
    "\r\n",
    "rand_constant_tensor()"
   ],
   "outputs": [
    {
     "output_type": "stream",
     "name": "stdout",
     "text": [
      "tensor([[0.5953, 0.0363, 0.5940],\n",
      "        [0.1164, 0.0565, 0.8637]])\n",
      "tensor([[1., 1., 1.],\n",
      "        [1., 1., 1.]])\n",
      "tensor([[0., 0., 0.],\n",
      "        [0., 0., 0.]])\n"
     ]
    }
   ],
   "metadata": {}
  },
  {
   "cell_type": "code",
   "execution_count": 24,
   "source": [
    "def attribute():\r\n",
    "    tensor = torch.rand(3, 5)\r\n",
    "    print(f'{tensor.shape}\\n{tensor.dtype}\\n{tensor.device}')\r\n",
    "\r\n",
    "attribute()"
   ],
   "outputs": [
    {
     "output_type": "stream",
     "name": "stdout",
     "text": [
      "torch.Size([3, 5])\n",
      "torch.float32\n",
      "cpu\n"
     ]
    }
   ],
   "metadata": {}
  },
  {
   "cell_type": "code",
   "execution_count": 26,
   "source": [
    "def gpu_tensor():\r\n",
    "    tensor = torch.rand(3, 4)\r\n",
    "    if torch.cuda.is_available():\r\n",
    "        tensor = tensor.to('cuda')\r\n",
    "        print(tensor)\r\n",
    "\r\n",
    "gpu_tensor()"
   ],
   "outputs": [
    {
     "output_type": "stream",
     "name": "stdout",
     "text": [
      "tensor([[0.0378, 0.9506, 0.3607, 0.6030],\n",
      "        [0.4642, 0.9456, 0.7718, 0.5216],\n",
      "        [0.1175, 0.2394, 0.6126, 0.5832]], device='cuda:0')\n"
     ]
    }
   ],
   "metadata": {}
  },
  {
   "cell_type": "code",
   "execution_count": 31,
   "source": [
    "def index_slice():\r\n",
    "    tensor = torch.tensor([[i * 4 + j for j in range(4)] for i in range(4)])\r\n",
    "    print(tensor)\r\n",
    "    print('First row: ',tensor[0])\r\n",
    "    print('First column: ', tensor[:, 0])\r\n",
    "    print('Last column:', tensor[..., -1])\r\n",
    "    tensor[:, 1] = 0\r\n",
    "    print(tensor)\r\n",
    "\r\n",
    "index_slice()"
   ],
   "outputs": [
    {
     "output_type": "stream",
     "name": "stdout",
     "text": [
      "tensor([[ 0,  1,  2,  3],\n",
      "        [ 4,  5,  6,  7],\n",
      "        [ 8,  9, 10, 11],\n",
      "        [12, 13, 14, 15]])\n",
      "First row:  tensor([0, 1, 2, 3])\n",
      "First column:  tensor([ 0,  4,  8, 12])\n",
      "Last column: tensor([ 3,  7, 11, 15])\n",
      "tensor([[ 0,  0,  2,  3],\n",
      "        [ 4,  0,  6,  7],\n",
      "        [ 8,  0, 10, 11],\n",
      "        [12,  0, 14, 15]])\n"
     ]
    }
   ],
   "metadata": {}
  },
  {
   "cell_type": "code",
   "execution_count": 41,
   "source": [
    "def torch_cat():\r\n",
    "    t1d = torch.tensor([i for i in range(3)])\r\n",
    "    print(t1d)\r\n",
    "    # 차원이 하나라서 dim=0으로 붙일 수 밖에 없다\r\n",
    "    t = torch.cat([t1d, t1d], dim=0)\r\n",
    "    print(t)\r\n",
    "\r\n",
    "    t2d = torch.tensor([[i * 3 + j for j in range(3)] for i in range(2)])\r\n",
    "    print(t2d)\r\n",
    "    # 차원이 두 개라서 0, 1 두 방향으로 붙일 수 있다.\r\n",
    "    t = list(map(lambda x : torch.cat([t2d, t2d], dim=x), range(2)))\r\n",
    "    print(*t, sep='\\n')\r\n",
    "\r\n",
    "torch_cat()"
   ],
   "outputs": [
    {
     "output_type": "stream",
     "name": "stdout",
     "text": [
      "tensor([0, 1, 2])\n",
      "tensor([0, 1, 2, 0, 1, 2])\n",
      "tensor([[0, 1, 2],\n",
      "        [3, 4, 5]])\n",
      "tensor([[0, 1, 2],\n",
      "        [3, 4, 5],\n",
      "        [0, 1, 2],\n",
      "        [3, 4, 5]])\n",
      "tensor([[0, 1, 2, 0, 1, 2],\n",
      "        [3, 4, 5, 3, 4, 5]])\n"
     ]
    }
   ],
   "metadata": {}
  },
  {
   "cell_type": "code",
   "execution_count": 58,
   "source": [
    "def torch_stack():\r\n",
    "    t2d = torch.tensor([[i * 4 + j for j in range(4)] for i in range(3)])\r\n",
    "    print(t2d, t2d.shape)\r\n",
    "\r\n",
    "    # 0차원 방향으로 쌓는다 = 새로 생기는 차원을 0차원으로 한다\r\n",
    "    td = list(map(lambda x : torch.stack([t2d, t2d], dim=x), range(3)))\r\n",
    "    for t in td:\r\n",
    "        print(t, t.shape)\r\n",
    "\r\n",
    "torch_stack()"
   ],
   "outputs": [
    {
     "output_type": "stream",
     "name": "stdout",
     "text": [
      "tensor([[ 0,  1,  2,  3],\n",
      "        [ 4,  5,  6,  7],\n",
      "        [ 8,  9, 10, 11]]) torch.Size([3, 4])\n",
      "tensor([[[ 0,  1,  2,  3],\n",
      "         [ 4,  5,  6,  7],\n",
      "         [ 8,  9, 10, 11]],\n",
      "\n",
      "        [[ 0,  1,  2,  3],\n",
      "         [ 4,  5,  6,  7],\n",
      "         [ 8,  9, 10, 11]]]) torch.Size([2, 3, 4])\n",
      "tensor([[[ 0,  1,  2,  3],\n",
      "         [ 0,  1,  2,  3]],\n",
      "\n",
      "        [[ 4,  5,  6,  7],\n",
      "         [ 4,  5,  6,  7]],\n",
      "\n",
      "        [[ 8,  9, 10, 11],\n",
      "         [ 8,  9, 10, 11]]]) torch.Size([3, 2, 4])\n",
      "tensor([[[ 0,  0],\n",
      "         [ 1,  1],\n",
      "         [ 2,  2],\n",
      "         [ 3,  3]],\n",
      "\n",
      "        [[ 4,  4],\n",
      "         [ 5,  5],\n",
      "         [ 6,  6],\n",
      "         [ 7,  7]],\n",
      "\n",
      "        [[ 8,  8],\n",
      "         [ 9,  9],\n",
      "         [10, 10],\n",
      "         [11, 11]]]) torch.Size([3, 4, 2])\n"
     ]
    }
   ],
   "metadata": {}
  },
  {
   "cell_type": "code",
   "execution_count": 70,
   "source": [
    "def torch_arith():\r\n",
    "    tensor = torch.tensor([[i * 3 + j for j in range(3)] for i in range(3)])\r\n",
    "    print(tensor)\r\n",
    "    \r\n",
    "    # 행렬곱\r\n",
    "    y1 = tensor @ tensor\r\n",
    "    y2 = tensor.matmul(tensor)\r\n",
    "    y3 = torch.matmul(tensor, tensor)\r\n",
    "    print(y3)\r\n",
    "\r\n",
    "    # 요소별 곱\r\n",
    "    z1 = tensor * tensor\r\n",
    "    z2 = tensor.mul(tensor)\r\n",
    "    z3 = torch.mul(tensor, tensor)\r\n",
    "    print(z3)\r\n",
    "\r\n",
    "torch_arith()"
   ],
   "outputs": [
    {
     "output_type": "stream",
     "name": "stdout",
     "text": [
      "tensor([[0, 1, 2],\n",
      "        [3, 4, 5],\n",
      "        [6, 7, 8]])\n",
      "tensor([[ 15,  18,  21],\n",
      "        [ 42,  54,  66],\n",
      "        [ 69,  90, 111]])\n",
      "tensor([[ 0,  1,  4],\n",
      "        [ 9, 16, 25],\n",
      "        [36, 49, 64]])\n"
     ]
    }
   ],
   "metadata": {}
  },
  {
   "cell_type": "code",
   "execution_count": 73,
   "source": [
    "def single_elem_tensor():\r\n",
    "    tensor = torch.tensor([[i * 3 + j for j in range(3)] for i in range(3)])\r\n",
    "    print(tensor)\r\n",
    "    agg = tensor.sum()\r\n",
    "    print(agg, type(agg))\r\n",
    "    agg_item = agg.item()\r\n",
    "    print(agg_item, type(agg_item))\r\n",
    "\r\n",
    "single_elem_tensor()"
   ],
   "outputs": [
    {
     "output_type": "stream",
     "name": "stdout",
     "text": [
      "tensor([[0, 1, 2],\n",
      "        [3, 4, 5],\n",
      "        [6, 7, 8]])\n",
      "tensor(36) <class 'torch.Tensor'>\n",
      "36 <class 'int'>\n"
     ]
    }
   ],
   "metadata": {}
  },
  {
   "cell_type": "code",
   "execution_count": 77,
   "source": [
    "def torch_to_numpy():\r\n",
    "    t = torch.ones(5)\r\n",
    "    n = t.numpy()\r\n",
    "    print(t)\r\n",
    "    print(n)\r\n",
    "\r\n",
    "    t.add_(1)\r\n",
    "    print(t)\r\n",
    "    print(n)\r\n",
    "\r\n",
    "torch_to_numpy()"
   ],
   "outputs": [
    {
     "output_type": "stream",
     "name": "stdout",
     "text": [
      "tensor([1., 1., 1., 1., 1.])\n",
      "[1. 1. 1. 1. 1.]\n",
      "tensor([2., 2., 2., 2., 2.])\n",
      "[2. 2. 2. 2. 2.]\n"
     ]
    }
   ],
   "metadata": {}
  },
  {
   "cell_type": "code",
   "execution_count": 80,
   "source": [
    "def numpy_to_torch():\r\n",
    "    n = np.ones(5)\r\n",
    "    t = torch.from_numpy(n)\r\n",
    "    print(t)\r\n",
    "    print(n)\r\n",
    "\r\n",
    "    np.add(n, 1, out=n)\r\n",
    "    print(t)\r\n",
    "    print(n)\r\n",
    "\r\n",
    "numpy_to_torch()"
   ],
   "outputs": [
    {
     "output_type": "stream",
     "name": "stdout",
     "text": [
      "tensor([1., 1., 1., 1., 1.], dtype=torch.float64)\n",
      "[1. 1. 1. 1. 1.]\n",
      "tensor([2., 2., 2., 2., 2.], dtype=torch.float64)\n",
      "[2. 2. 2. 2. 2.]\n"
     ]
    }
   ],
   "metadata": {}
  }
 ],
 "metadata": {
  "orig_nbformat": 4,
  "language_info": {
   "name": "python",
   "version": "3.8.11",
   "mimetype": "text/x-python",
   "codemirror_mode": {
    "name": "ipython",
    "version": 3
   },
   "pygments_lexer": "ipython3",
   "nbconvert_exporter": "python",
   "file_extension": ".py"
  },
  "kernelspec": {
   "name": "python3",
   "display_name": "Python 3.8.11 64-bit ('py38-pytorch-gpu': conda)"
  },
  "interpreter": {
   "hash": "92bb61e8f2b0dcdaa21cd71aad1d97e3da046ad8a677ac321cbd25d595832889"
  }
 },
 "nbformat": 4,
 "nbformat_minor": 2
}