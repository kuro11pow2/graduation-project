{
 "cells": [
  {
   "cell_type": "code",
   "execution_count": 1,
   "source": [
    "import sys, os\r\n",
    "\r\n",
    "ppath = lambda x: os.path.dirname(os.path.abspath(x))\r\n",
    "file_name = os.getcwd()\r\n",
    "sys.path.append(ppath(ppath(file_name)))\r\n",
    "\r\n",
    "from recorder.recorder import Recorder"
   ],
   "outputs": [],
   "metadata": {}
  },
  {
   "cell_type": "code",
   "execution_count": 2,
   "source": [
    "import gym\r\n",
    "\r\n",
    "from ppo import *\r\n",
    "from torch.distributions import Categorical"
   ],
   "outputs": [],
   "metadata": {}
  },
  {
   "cell_type": "code",
   "execution_count": 3,
   "source": [
    "# conda install torchvision\r\n",
    "# conda install -c conda-forge tensorboard\r\n",
    "\r\n",
    "from torch.utils.tensorboard import SummaryWriter"
   ],
   "outputs": [],
   "metadata": {}
  },
  {
   "cell_type": "code",
   "execution_count": 4,
   "source": [
    "def main():\r\n",
    "    recorder = Recorder(gym.make('CartPole-v1'), False)\r\n",
    "    env = recorder.wrapped_env()\r\n",
    "    writer = SummaryWriter()\r\n",
    "\r\n",
    "    model = PPO()\r\n",
    "    score = 0.0\r\n",
    "    print_interval = 20\r\n",
    "\r\n",
    "    for n_epi in range(10000):\r\n",
    "        s = env.reset()\r\n",
    "        done = False\r\n",
    "        while not done:\r\n",
    "            for t in range(T_horizon):\r\n",
    "                prob = model.pi(torch.from_numpy(s).float())\r\n",
    "                m = Categorical(prob)\r\n",
    "                a = m.sample().item()\r\n",
    "                s_prime, r, done, info = env.step(a)\r\n",
    "                \r\n",
    "                # r은 크기가 너무 커서 1/100을 했다. 그래야 학습이 잘 됨.\r\n",
    "                # prob[a].item()은 a를 할 확률을 말함\r\n",
    "                model.put_data((s, a, r/100.0, s_prime, prob[a].item(), done))\r\n",
    "                s = s_prime\r\n",
    "\r\n",
    "                score += r\r\n",
    "                if done:\r\n",
    "                    break\r\n",
    "\r\n",
    "            model.train_net()\r\n",
    "        \r\n",
    "        if score / print_interval > 490:\r\n",
    "            recorder.update([n_epi + 1])\r\n",
    "            if (len(recorder.recorded_epi()) > 5):\r\n",
    "                env.reset()\r\n",
    "                break\r\n",
    "\r\n",
    "        if n_epi%print_interval==0 and n_epi!=0:\r\n",
    "            print(\"# of episode: {}, avg score: {:.1f}\".format(n_epi, score/print_interval))\r\n",
    "            writer.add_scalar(\"score/train\", score/print_interval, n_epi)\r\n",
    "            score = 0.0\r\n",
    "\r\n",
    "    env.close()\r\n",
    "    writer.flush()\r\n",
    "    writer.close()"
   ],
   "outputs": [],
   "metadata": {}
  },
  {
   "cell_type": "code",
   "execution_count": 5,
   "source": [
    "if __name__ == '__main__':\r\n",
    "    main()"
   ],
   "outputs": [
    {
     "output_type": "stream",
     "name": "stdout",
     "text": [
      "# of episode: 20, avg score: 28.8\n",
      "# of episode: 40, avg score: 36.2\n",
      "# of episode: 60, avg score: 54.9\n",
      "# of episode: 80, avg score: 49.2\n",
      "# of episode: 100, avg score: 111.3\n",
      "# of episode: 120, avg score: 49.7\n",
      "# of episode: 140, avg score: 78.0\n",
      "# of episode: 160, avg score: 138.9\n",
      "# of episode: 180, avg score: 255.4\n",
      "# of episode: 200, avg score: 190.4\n",
      "# of episode: 220, avg score: 134.1\n",
      "# of episode: 240, avg score: 115.5\n",
      "# of episode: 260, avg score: 158.3\n",
      "# of episode: 280, avg score: 146.1\n",
      "# of episode: 300, avg score: 170.9\n",
      "# of episode: 320, avg score: 213.1\n",
      "# of episode: 340, avg score: 157.4\n",
      "# of episode: 360, avg score: 224.1\n",
      "# of episode: 380, avg score: 323.6\n",
      "# of episode: 400, avg score: 124.9\n",
      "# of episode: 420, avg score: 175.2\n",
      "# of episode: 440, avg score: 356.4\n",
      "# of episode: 460, avg score: 486.4\n",
      "# of episode: 480, avg score: 433.6\n",
      "# of episode: 500, avg score: 441.0\n",
      "# of episode: 520, avg score: 402.8\n",
      "# of episode: 540, avg score: 338.0\n",
      "# of episode: 560, avg score: 166.2\n",
      "# of episode: 580, avg score: 168.8\n",
      "# of episode: 600, avg score: 213.8\n",
      "# of episode: 620, avg score: 238.7\n",
      "# of episode: 640, avg score: 184.8\n",
      "# of episode: 660, avg score: 171.8\n",
      "# of episode: 680, avg score: 252.7\n",
      "# of episode: 700, avg score: 153.6\n",
      "# of episode: 720, avg score: 175.5\n",
      "# of episode: 740, avg score: 281.5\n",
      "# of episode: 760, avg score: 306.2\n",
      "# of episode: 780, avg score: 233.9\n",
      "# of episode: 800, avg score: 219.1\n",
      "# of episode: 820, avg score: 265.1\n",
      "# of episode: 840, avg score: 278.8\n",
      "# of episode: 860, avg score: 352.2\n",
      "# of episode: 880, avg score: 400.9\n",
      "# of episode: 900, avg score: 374.4\n",
      "# of episode: 920, avg score: 432.1\n",
      "# of episode: 940, avg score: 416.8\n",
      "# of episode: 960, avg score: 358.4\n",
      "# of episode: 980, avg score: 351.1\n",
      "# of episode: 1000, avg score: 384.9\n",
      "# of episode: 1020, avg score: 265.0\n",
      "# of episode: 1040, avg score: 442.9\n",
      "# of episode: 1060, avg score: 408.2\n",
      "# of episode: 1080, avg score: 441.8\n",
      "# of episode: 1100, avg score: 303.1\n",
      "# of episode: 1120, avg score: 437.6\n",
      "# of episode: 1140, avg score: 488.5\n",
      "# of episode: 1160, avg score: 500.0\n"
     ]
    },
    {
     "output_type": "stream",
     "name": "stderr",
     "text": [
      "C:\\Users\\kuro1\\anaconda3\\envs\\py38-pytorch-gpu\\lib\\site-packages\\pyglet\\image\\codecs\\wic.py:289: UserWarning: [WinError -2147417850] 스레드 모드가 설정된 후에는 바꿀 수 없습니다\n",
      "  warnings.warn(str(err))\n"
     ]
    },
    {
     "output_type": "stream",
     "name": "stdout",
     "text": [
      "# of episode: 1180, avg score: 500.0\n",
      "# of episode: 1200, avg score: 500.0\n",
      "# of episode: 1220, avg score: 496.4\n",
      "# of episode: 1240, avg score: 473.3\n",
      "# of episode: 1260, avg score: 476.0\n",
      "# of episode: 1280, avg score: 500.0\n",
      "# of episode: 1300, avg score: 489.5\n",
      "# of episode: 1320, avg score: 411.9\n",
      "# of episode: 1340, avg score: 398.8\n",
      "# of episode: 1360, avg score: 262.9\n",
      "# of episode: 1380, avg score: 126.8\n",
      "# of episode: 1400, avg score: 128.9\n",
      "# of episode: 1420, avg score: 147.8\n",
      "# of episode: 1440, avg score: 139.4\n",
      "# of episode: 1460, avg score: 94.0\n",
      "# of episode: 1480, avg score: 173.4\n",
      "# of episode: 1500, avg score: 435.4\n"
     ]
    }
   ],
   "metadata": {}
  },
  {
   "cell_type": "code",
   "execution_count": 6,
   "source": [
    "home_path = os.path.expanduser('~')\r\n",
    "cur_path = os.getcwd()\r\n",
    "conda_path = home_path + \"\\\\anaconda3\"\r\n",
    "conda_script_path = home_path + \"\\\\anaconda3\\\\Scripts\\\\activate.bat\"\r\n",
    "exc = ' '.join(['start', '%windir%\\System32\\cmd.exe \"/K\"', conda_script_path, conda_path])\r\n",
    "!$exc"
   ],
   "outputs": [],
   "metadata": {}
  },
  {
   "cell_type": "markdown",
   "source": [
    "conda activate py38-pytorch-gpu && tensorboard --port=6006 --logdir=runs\r\n",
    "\r\n",
    "http://localhost:6006/"
   ],
   "metadata": {}
  }
 ],
 "metadata": {
  "orig_nbformat": 4,
  "language_info": {
   "name": "python",
   "version": "3.8.11",
   "mimetype": "text/x-python",
   "codemirror_mode": {
    "name": "ipython",
    "version": 3
   },
   "pygments_lexer": "ipython3",
   "nbconvert_exporter": "python",
   "file_extension": ".py"
  },
  "kernelspec": {
   "name": "python3",
   "display_name": "Python 3.8.11 64-bit ('py38-pytorch-gpu': conda)"
  },
  "interpreter": {
   "hash": "92bb61e8f2b0dcdaa21cd71aad1d97e3da046ad8a677ac321cbd25d595832889"
  }
 },
 "nbformat": 4,
 "nbformat_minor": 2
}