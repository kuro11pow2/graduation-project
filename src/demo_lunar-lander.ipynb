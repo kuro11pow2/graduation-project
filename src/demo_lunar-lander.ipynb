{
 "cells": [
  {
   "cell_type": "code",
   "execution_count": null,
   "source": [
    "\"\"\"\r\n",
    "run anaconda prompt \r\n",
    "\"\"\"\r\n",
    "\r\n",
    "import os\r\n",
    "\r\n",
    "home_path = os.path.expanduser('~')\r\n",
    "cur_path = os.getcwd()\r\n",
    "conda_path = home_path + \"\\\\anaconda3\"\r\n",
    "conda_script_path = home_path + \"\\\\anaconda3\\\\Scripts\\\\activate.bat\"\r\n",
    "exc = ' '.join(['start', '%windir%\\System32\\cmd.exe \"/K\"', conda_script_path, conda_path])\r\n",
    "!$exc"
   ],
   "outputs": [],
   "metadata": {}
  },
  {
   "cell_type": "code",
   "execution_count": null,
   "source": [
    "\"\"\"\r\n",
    "run tensorboard server\r\n",
    "\r\n",
    "conda activate py38-pytorch-gpu && tensorboard --port=6006 --logdir=runs\r\n",
    "http://localhost:6006/\r\n",
    "\"\"\"\r\n",
    "\r\n",
    "\"\"\"\r\n",
    "print env info\r\n",
    "\"\"\"\r\n",
    "\r\n",
    "import gym\r\n",
    "from env import Env\r\n",
    "\r\n",
    "env = gym.make(Env.BIPEDALWALKER.value)\r\n",
    "\r\n",
    "print(dir(env))\r\n",
    "print(f'{env._max_episode_steps=}')\r\n",
    "print(f'{env.action_space=}')\r\n",
    "print(f'{env.metadata=}')\r\n",
    "print(f'{env.observation_space.shape[0]=}')\r\n",
    "print(f'{env.reward_range=}')\r\n",
    "print(f'{env.seed=}')\r\n",
    "print(f'{env.spec=}')"
   ],
   "outputs": [],
   "metadata": {}
  },
  {
   "cell_type": "code",
   "execution_count": null,
   "source": [
    "## ddqn lunar-lander 불러오기\r\n",
    "\r\n",
    "from env import Env\r\n",
    "from runner import RunnerParams\r\n",
    "from algorithms.dqn import DQNParams\r\n",
    "from algorithms.dqn_runner import DQNRunner\r\n",
    "\r\n",
    "runner_param = RunnerParams(load_net=True, load_name='node512-score165-DQN-LunarLander-v2-1631737560.pt',\r\n",
    "                            train=False,\r\n",
    "                            target_score=150, \r\n",
    "                            reward_scale=30.0, max_video=100, video_record_interval=1,\r\n",
    "                            step_wrapper=lambda x: (x[0], x[1], x[2], x[3]))\r\n",
    "algo_param = DQNParams(n_node=512, batch_size=32, buffer_limit=100000, \r\n",
    "                        n_train_start=8000, start_epsilon=0.2,\r\n",
    "                        update_interval=40)\r\n",
    "DQNRunner(Env.LUNARLANDER.value, algo_param, runner_param).run()"
   ],
   "outputs": [],
   "metadata": {}
  },
  {
   "cell_type": "code",
   "execution_count": null,
   "source": [
    "## ddqn lunar-lander\r\n",
    "from env import Env\r\n",
    "from runner import RunnerParams\r\n",
    "from algorithms.ddqn import DDQNParams\r\n",
    "from algorithms.ddqn_runner import DDQNRunner\r\n",
    "\r\n",
    "runner_param = RunnerParams(save_net=True,\r\n",
    "                            train=True,\r\n",
    "                            target_score=200, \r\n",
    "                            reward_scale=30.0, max_video=100, video_record_interval=200,\r\n",
    "                            step_wrapper=lambda x: x)\r\n",
    "algo_param = DDQNParams(n_node=512, batch_size=64, buffer_limit=50000, \r\n",
    "                        n_train_start=4000, start_epsilon=0.2,\r\n",
    "                        update_interval=20)\r\n",
    "DDQNRunner(Env.LUNARLANDER.value, algo_param, runner_param).run()"
   ],
   "outputs": [],
   "metadata": {}
  },
  {
   "cell_type": "code",
   "execution_count": null,
   "source": [
    "## ddqn lunar-lander 불러오기\r\n",
    "\r\n",
    "from env import Env\r\n",
    "from runner import RunnerParams\r\n",
    "from algorithms.ddqn import DDQNParams\r\n",
    "from algorithms.ddqn_runner import DDQNRunner\r\n",
    "\r\n",
    "runner_param = RunnerParams(save_net=False, load_net=True, load_name='node512-score213-DDQN-LunarLander-v2-1631750946.pt',\r\n",
    "                            train=False,\r\n",
    "                            target_score=200, \r\n",
    "                            reward_scale=30.0, max_video=100, video_record_interval=1,\r\n",
    "                            step_wrapper=lambda x: x)\r\n",
    "algo_param = DDQNParams(n_node=512, batch_size=64, buffer_limit=50000, \r\n",
    "                        n_train_start=4000, start_epsilon=0.2,\r\n",
    "                        update_interval=20)\r\n",
    "DDQNRunner(Env.LUNARLANDER.value, algo_param, runner_param).run()"
   ],
   "outputs": [],
   "metadata": {}
  }
 ],
 "metadata": {
  "orig_nbformat": 4,
  "language_info": {
   "name": "python",
   "version": "3.8.11",
   "mimetype": "text/x-python",
   "codemirror_mode": {
    "name": "ipython",
    "version": 3
   },
   "pygments_lexer": "ipython3",
   "nbconvert_exporter": "python",
   "file_extension": ".py"
  },
  "kernelspec": {
   "name": "python3",
   "display_name": "Python 3.8.11 64-bit ('py38-pytorch-gpu': conda)"
  },
  "interpreter": {
   "hash": "92bb61e8f2b0dcdaa21cd71aad1d97e3da046ad8a677ac321cbd25d595832889"
  }
 },
 "nbformat": 4,
 "nbformat_minor": 2
}