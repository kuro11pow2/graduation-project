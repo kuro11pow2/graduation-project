{
 "cells": [
  {
   "cell_type": "code",
   "execution_count": 1,
   "source": [
    "import os\r\n",
    "\r\n",
    "home_path = os.path.expanduser('~')\r\n",
    "cur_path = os.getcwd()\r\n",
    "conda_path = home_path + \"\\\\anaconda3\"\r\n",
    "conda_script_path = home_path + \"\\\\anaconda3\\\\Scripts\\\\activate.bat\"\r\n",
    "exc = ' '.join(['start', '%windir%\\System32\\cmd.exe \"/K\"', conda_script_path, conda_path])\r\n",
    "!$exc"
   ],
   "outputs": [
    {
     "output_type": "execute_result",
     "data": {
      "text/plain": [
       "'http://localhost:6006/'"
      ]
     },
     "metadata": {},
     "execution_count": 1
    }
   ],
   "metadata": {}
  },
  {
   "cell_type": "code",
   "execution_count": null,
   "source": [
    "conda activate py38-pytorch-gpu && tensorboard --port=6006 --logdir=runs\r\n",
    "http://localhost:6006/"
   ],
   "outputs": [],
   "metadata": {}
  },
  {
   "cell_type": "code",
   "execution_count": null,
   "source": [
    "import gym\r\n",
    "from env import Env\r\n",
    "\r\n",
    "env = gym.make(Env.MOUNTAINCAR.value)\r\n",
    "print(dir(env))\r\n",
    "print(f'{env._max_episode_steps=}')\r\n",
    "print(f'{env.action_space=}')\r\n",
    "print(f'{env.metadata=}')\r\n",
    "print(f'{env.observation_space.shape[0]=}')\r\n",
    "print(f'{env.reward_range=}')\r\n",
    "print(f'{env.seed=}')\r\n",
    "print(f'{env.spec=}')"
   ],
   "outputs": [],
   "metadata": {}
  },
  {
   "cell_type": "code",
   "execution_count": 1,
   "source": [
    "# cart-pole 모음\r\n",
    "\r\n",
    "from env import Env\r\n",
    "from runner import RunnerParams\r\n",
    "\r\n",
    "#dqn\r\n",
    "from algorithms.dqn import DQNParams\r\n",
    "from algorithms.dqn_runner import DQNRunner\r\n",
    "algo_param = DQNParams(buffer_limit=50000, n_train_start=4000,\r\n",
    "                        n_node=128, start_epsilon=0.1, learning_rate=0.0001,\r\n",
    "                        update_interval=40)\r\n",
    "\r\n",
    "runner_param = RunnerParams(save_net=True, name_postfix=str(algo_param),\r\n",
    "                            target_score=500,\r\n",
    "                            interval=1, \r\n",
    "                            record_baseline=999, video_record_interval=1,\r\n",
    "                            reward_scale=100.0, max_video=100)\r\n",
    "DQNRunner(Env.CARTPOLE.value, algo_param, runner_param).run()\r\n",
    "\r\n",
    "# ddqn\r\n",
    "# from algorithms.ddqn import DDQNParams\r\n",
    "# from algorithms.ddqn_runner import DDQNRunner\r\n",
    "# runner_param = RunnerParams(target_score=500, record_baseline=999, reward_scale=100.0, max_video=100)\r\n",
    "# DDQNRunner(Env.CARTPOLE.value, DDQNParams(), runner_param).run()\r\n",
    "\r\n",
    "# REINFORCE\r\n",
    "# from algorithms.actorcritic import ActorCriticParams\r\n",
    "# from algorithms.actorcritic_runner import ActorCriticRunner\r\n",
    "# runner_param = RunnerParams(target_score=500, record_baseline=999, reward_scale=100.0, max_video=100)\r\n",
    "# ActorCriticRunner(Env.CARTPOLE.value, ActorCriticParams(), runner_param).run()\r\n",
    "\r\n",
    "# PPO\r\n",
    "# from algorithms.ppo import PPOParams\r\n",
    "# from algorithms.ppo_runner import PPORunner\r\n",
    "# runner_param = RunnerParams(save_net=True, \r\n",
    "#                             target_score=500, \r\n",
    "#                             record_baseline=999, video_record_interval=200,\r\n",
    "#                             reward_scale=100.0, max_video=100)\r\n",
    "# PPORunner(Env.CARTPOLE.value, PPOParams(n_node=256), runner_param).run()\r\n",
    "\r\n",
    "# PPOlstm\r\n",
    "# from algorithms.ppolstm import PPOlstmParams\r\n",
    "# from algorithms.ppolstm_runner import PPOlstmRunner\r\n",
    "# runner_param = RunnerParams(save_net=True, target_score=500, record_baseline=999, reward_scale=100.0, max_video=100)\r\n",
    "# PPOlstmRunner(Env.CARTPOLE.value, PPOlstmParams(), runner_param).run()"
   ],
   "outputs": [
    {
     "output_type": "error",
     "ename": "AttributeError",
     "evalue": "'NoneType' object has no attribute 'action_space'",
     "traceback": [
      "\u001b[1;31m---------------------------------------------------------------------------\u001b[0m",
      "\u001b[1;31mAttributeError\u001b[0m                            Traceback (most recent call last)",
      "\u001b[1;32m~\\AppData\\Local\\Temp/ipykernel_26268/2546659480.py\u001b[0m in \u001b[0;36m<module>\u001b[1;34m\u001b[0m\n\u001b[0;32m     16\u001b[0m                             \u001b[0mrecord_baseline\u001b[0m\u001b[1;33m=\u001b[0m\u001b[1;36m999\u001b[0m\u001b[1;33m,\u001b[0m \u001b[0mvideo_record_interval\u001b[0m\u001b[1;33m=\u001b[0m\u001b[1;36m1\u001b[0m\u001b[1;33m,\u001b[0m\u001b[1;33m\u001b[0m\u001b[1;33m\u001b[0m\u001b[0m\n\u001b[0;32m     17\u001b[0m                             reward_scale=100.0, max_video=100)\n\u001b[1;32m---> 18\u001b[1;33m \u001b[0mDQNRunner\u001b[0m\u001b[1;33m(\u001b[0m\u001b[0mEnv\u001b[0m\u001b[1;33m.\u001b[0m\u001b[0mCARTPOLE\u001b[0m\u001b[1;33m.\u001b[0m\u001b[0mvalue\u001b[0m\u001b[1;33m,\u001b[0m \u001b[0malgo_param\u001b[0m\u001b[1;33m,\u001b[0m \u001b[0mrunner_param\u001b[0m\u001b[1;33m)\u001b[0m\u001b[1;33m.\u001b[0m\u001b[0mrun\u001b[0m\u001b[1;33m(\u001b[0m\u001b[1;33m)\u001b[0m\u001b[1;33m\u001b[0m\u001b[1;33m\u001b[0m\u001b[0m\n\u001b[0m\u001b[0;32m     19\u001b[0m \u001b[1;33m\u001b[0m\u001b[0m\n\u001b[0;32m     20\u001b[0m \u001b[1;31m# ddqn\u001b[0m\u001b[1;33m\u001b[0m\u001b[1;33m\u001b[0m\u001b[1;33m\u001b[0m\u001b[0m\n",
      "\u001b[1;32mc:\\Users\\kuro1\\Source\\Repos\\Remote\\Univ\\graduation-project\\src\\runner.py\u001b[0m in \u001b[0;36mrun\u001b[1;34m(self)\u001b[0m\n\u001b[0;32m     56\u001b[0m         \u001b[0menv\u001b[0m \u001b[1;33m=\u001b[0m \u001b[0mgym\u001b[0m\u001b[1;33m.\u001b[0m\u001b[0mmake\u001b[0m\u001b[1;33m(\u001b[0m\u001b[0mself\u001b[0m\u001b[1;33m.\u001b[0m\u001b[0m_env_name\u001b[0m\u001b[1;33m)\u001b[0m\u001b[1;33m\u001b[0m\u001b[1;33m\u001b[0m\u001b[0m\n\u001b[0;32m     57\u001b[0m         \u001b[0mself\u001b[0m\u001b[1;33m.\u001b[0m\u001b[0m_recorder\u001b[0m \u001b[1;33m=\u001b[0m \u001b[0mRecorder\u001b[0m\u001b[1;33m(\u001b[0m\u001b[1;33m)\u001b[0m\u001b[1;33m\u001b[0m\u001b[1;33m\u001b[0m\u001b[0m\n\u001b[1;32m---> 58\u001b[1;33m         \u001b[1;32mif\u001b[0m \u001b[1;32mnot\u001b[0m \u001b[0misinstance\u001b[0m\u001b[1;33m(\u001b[0m\u001b[0mself\u001b[0m\u001b[1;33m.\u001b[0m\u001b[0m_env\u001b[0m\u001b[1;33m.\u001b[0m\u001b[0maction_space\u001b[0m\u001b[1;33m,\u001b[0m \u001b[0mgym\u001b[0m\u001b[1;33m.\u001b[0m\u001b[0mspaces\u001b[0m\u001b[1;33m.\u001b[0m\u001b[0mdiscrete\u001b[0m\u001b[1;33m.\u001b[0m\u001b[0mDiscrete\u001b[0m\u001b[1;33m)\u001b[0m\u001b[1;33m:\u001b[0m\u001b[1;33m\u001b[0m\u001b[1;33m\u001b[0m\u001b[0m\n\u001b[0m\u001b[0;32m     59\u001b[0m             \u001b[1;32mraise\u001b[0m \u001b[0mException\u001b[0m\u001b[1;33m(\u001b[0m\u001b[1;34m'discrete space만 지원됨.'\u001b[0m\u001b[1;33m)\u001b[0m\u001b[1;33m\u001b[0m\u001b[1;33m\u001b[0m\u001b[0m\n\u001b[0;32m     60\u001b[0m         \u001b[0mname\u001b[0m \u001b[1;33m=\u001b[0m \u001b[1;34mf'runs/{self._algo_name}'\u001b[0m\u001b[1;33m\u001b[0m\u001b[1;33m\u001b[0m\u001b[0m\n",
      "\u001b[1;31mAttributeError\u001b[0m: 'NoneType' object has no attribute 'action_space'"
     ]
    }
   ],
   "metadata": {}
  },
  {
   "cell_type": "code",
   "execution_count": null,
   "source": [
    "# 모델 load\r\n",
    "from env import Env\r\n",
    "from runner import RunnerParams\r\n",
    "\r\n",
    "# dqn\r\n",
    "# from algorithms.dqn import DQNParams\r\n",
    "# from algorithms.dqn_runner import DQNRunner\r\n",
    "# runner_param = RunnerParams(train=False, load_net=True, load_name='DQN-CartPole-v1-1631723356.pt',\r\n",
    "#                             target_score=500, record_baseline=499, reward_scale=100.0, max_video=100)\r\n",
    "# DQNRunner(Env.CARTPOLE.value, DQNParams(), runner_param).run()\r\n",
    "\r\n",
    "# ddqn\r\n",
    "# from algorithms.ddqn import DDQNParams\r\n",
    "# from algorithms.ddqn_runner import DDQNRunner\r\n",
    "# runner_param = RunnerParams(target_score=500, record_baseline=999, reward_scale=100.0, max_video=100)\r\n",
    "# DDQNRunner(Env.CARTPOLE.value, DDQNParams(), runner_param).run()\r\n",
    "\r\n",
    "# REINFORCE\r\n",
    "# from algorithms.actorcritic import ActorCriticParams\r\n",
    "# from algorithms.actorcritic_runner import ActorCriticRunner\r\n",
    "# runner_param = RunnerParams(target_score=500, record_baseline=999, reward_scale=100.0, max_video=100)\r\n",
    "# ActorCriticRunner(Env.CARTPOLE.value, ActorCriticParams(), runner_param).run()\r\n",
    "\r\n",
    "# PPO\r\n",
    "from algorithms.ppo import PPOParams\r\n",
    "from algorithms.ppo_runner import PPORunner\r\n",
    "runner_param = RunnerParams(train=False, load_net=True, load_name='PPO-CartPole-v1-1631783669.pt',\r\n",
    "                            target_score=500, record_baseline=500, reward_scale=100.0, max_video=100)\r\n",
    "PPORunner(Env.CARTPOLE.value, PPOParams(n_node=256), runner_param).run()\r\n",
    "\r\n",
    "# PPOlstm\r\n",
    "# from algorithms.ppolstm import PPOlstmParams\r\n",
    "# from algorithms.ppolstm_runner import PPOlstmRunner\r\n",
    "# runner_param = RunnerParams(save_net=True, target_score=500, record_baseline=999, reward_scale=100.0, max_video=100)\r\n",
    "# PPOlstmRunner(Env.CARTPOLE.value, PPOlstmParams(), runner_param).run()"
   ],
   "outputs": [],
   "metadata": {}
  },
  {
   "cell_type": "code",
   "execution_count": null,
   "source": [
    "## dqn cart-pole 학습\r\n",
    "\r\n",
    "from env import Env\r\n",
    "from runner import RunnerParams\r\n",
    "from algorithms.dqn import DQNParams\r\n",
    "from algorithms.dqn_runner import DQNRunner\r\n",
    "\r\n",
    "runner_param = RunnerParams(record_baseline=499, reward_scale=100.0, max_video=30)\r\n",
    "algo_param = DQNParams()\r\n",
    "DQNRunner(Env.CARTPOLE.value, algo_param, runner_param).run()"
   ],
   "outputs": [],
   "metadata": {}
  },
  {
   "cell_type": "code",
   "execution_count": null,
   "source": [
    "## ddqn lunar-lander 불러오기\r\n",
    "\r\n",
    "from env import Env\r\n",
    "from runner import RunnerParams\r\n",
    "from algorithms.dqn import DQNParams\r\n",
    "from algorithms.dqn_runner import DQNRunner\r\n",
    "\r\n",
    "runner_param = RunnerParams(load_net=True, load_name='node512-score165-DQN-LunarLander-v2-1631737560.pt',\r\n",
    "                            train=False,\r\n",
    "                            target_score=150, record_baseline=149, \r\n",
    "                            reward_scale=30.0, max_video=100, video_record_interval=1,\r\n",
    "                            step_wrapper=lambda x: (x[0], x[1], x[2], x[3]))\r\n",
    "algo_param = DQNParams(n_node=512, batch_size=32, buffer_limit=100000, \r\n",
    "                        n_train_start=8000, start_epsilon=0.2,\r\n",
    "                        update_interval=40)\r\n",
    "DQNRunner(Env.LUNARLANDER.value, algo_param, runner_param).run()"
   ],
   "outputs": [],
   "metadata": {}
  },
  {
   "cell_type": "code",
   "execution_count": null,
   "source": [
    "## ddqn lunar-lander\r\n",
    "from env import Env\r\n",
    "from runner import RunnerParams\r\n",
    "from algorithms.ddqn import DDQNParams\r\n",
    "from algorithms.ddqn_runner import DDQNRunner\r\n",
    "\r\n",
    "runner_param = RunnerParams(save_net=True,\r\n",
    "                            train=True,\r\n",
    "                            target_score=200, record_baseline=250, \r\n",
    "                            reward_scale=30.0, max_video=100, video_record_interval=200,\r\n",
    "                            step_wrapper=lambda x: x)\r\n",
    "algo_param = DDQNParams(n_node=512, batch_size=64, buffer_limit=50000, \r\n",
    "                        n_train_start=4000, start_epsilon=0.2,\r\n",
    "                        update_interval=20)\r\n",
    "DDQNRunner(Env.LUNARLANDER.value, algo_param, runner_param).run()"
   ],
   "outputs": [],
   "metadata": {}
  },
  {
   "cell_type": "code",
   "execution_count": null,
   "source": [
    "## ddqn lunar-lander 불러오기\r\n",
    "\r\n",
    "from env import Env\r\n",
    "from runner import RunnerParams\r\n",
    "from algorithms.ddqn import DDQNParams\r\n",
    "from algorithms.ddqn_runner import DDQNRunner\r\n",
    "\r\n",
    "runner_param = RunnerParams(save_net=False, load_net=True, load_name='node512-score213-DDQN-LunarLander-v2-1631750946.pt',\r\n",
    "                            train=False,\r\n",
    "                            target_score=200, record_baseline=250, \r\n",
    "                            reward_scale=30.0, max_video=100, video_record_interval=1,\r\n",
    "                            step_wrapper=lambda x: x)\r\n",
    "algo_param = DDQNParams(n_node=512, batch_size=64, buffer_limit=50000, \r\n",
    "                        n_train_start=4000, start_epsilon=0.2,\r\n",
    "                        update_interval=20)\r\n",
    "DDQNRunner(Env.LUNARLANDER.value, algo_param, runner_param).run()"
   ],
   "outputs": [],
   "metadata": {}
  },
  {
   "cell_type": "code",
   "execution_count": null,
   "source": [
    "# 알고리즘 테스트 \r\n",
    "\r\n",
    "# ppo\r\n",
    "\r\n",
    "# from tester import RunnerTester\r\n",
    "# from algorithms.ppo_runner import PPORunner\r\n",
    "# from algorithms.ppo import PPOParams\r\n",
    "# from env import Env\r\n",
    "# algo_params = PPOParams()\r\n",
    "# result = RunnerTester(PPORunner, algo_params, [Env.MOUNTAINCAR]).test()\r\n",
    "# print('통과' if result else '실패')\r\n",
    "\r\n",
    "\r\n",
    "# ppolstm\r\n",
    "\r\n",
    "# from tester import RunnerTester\r\n",
    "# from algorithms.ppolstm_runner import PPOlstmRunner\r\n",
    "# from algorithms.ppolstm import PPOlstmParams\r\n",
    "# from env import Env\r\n",
    "# algo_params = PPOlstmParams()\r\n",
    "# result = RunnerTester(PPOlstmRunner, algo_params, [Env.MOUNTAINCAR]).test()\r\n",
    "# print('통과' if result else '실패')\r\n",
    "\r\n",
    "\r\n",
    "# actorcritic\r\n",
    "\r\n",
    "# from tester import RunnerTester\r\n",
    "# from algorithms.actorcritic_runner import ActorCriticRunner\r\n",
    "# from algorithms.actorcritic import ActorCriticParams\r\n",
    "# from env import Env\r\n",
    "# algo_params = ActorCriticParams()\r\n",
    "# result = RunnerTester(ActorCriticRunner, algo_params, [Env.CARTPOLE]).test()\r\n",
    "# print('통과' if result else '실패')\r\n",
    "\r\n",
    "\r\n",
    "\r\n",
    "# dqn\r\n",
    "# from tester import RunnerTester\r\n",
    "# from algorithms.dqn_runner import DQNRunner\r\n",
    "# from algorithms.dqn import DQNParams\r\n",
    "# from env import Env\r\n",
    "# algo_params = DQNParams()\r\n",
    "# result = RunnerTester(DQNRunner, algo_params, [Env.CARTPOLE]).test()\r\n",
    "# print('통과' if result else '실패')\r\n",
    "\r\n",
    "\r\n",
    "\r\n",
    "# ddqn\r\n",
    "from tester import RunnerTester\r\n",
    "from algorithms.ddqn_runner import DDQNRunner\r\n",
    "from algorithms.ddqn import DDQNParams\r\n",
    "from env import Env\r\n",
    "algo_params = DDQNParams(start_epsilon=0.2, n_node=128, n_train_start=20000, \r\n",
    "                        buffer_limit=100000)\r\n",
    "result = RunnerTester(DDQNRunner, algo_params, [Env.CARTPOLE]).test()\r\n",
    "print('통과' if result else '실패')"
   ],
   "outputs": [],
   "metadata": {}
  }
 ],
 "metadata": {
  "orig_nbformat": 4,
  "language_info": {
   "name": "python",
   "version": "3.8.11",
   "mimetype": "text/x-python",
   "codemirror_mode": {
    "name": "ipython",
    "version": 3
   },
   "pygments_lexer": "ipython3",
   "nbconvert_exporter": "python",
   "file_extension": ".py"
  },
  "kernelspec": {
   "name": "python3",
   "display_name": "Python 3.8.11 64-bit ('py38-pytorch-gpu': conda)"
  },
  "interpreter": {
   "hash": "92bb61e8f2b0dcdaa21cd71aad1d97e3da046ad8a677ac321cbd25d595832889"
  }
 },
 "nbformat": 4,
 "nbformat_minor": 2
}