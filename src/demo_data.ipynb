{
 "cells": [
  {
   "cell_type": "code",
   "execution_count": 2,
   "metadata": {},
   "outputs": [],
   "source": [
    "import pandas as pd\n",
    "import numpy as np\n",
    "import seaborn as sns\n",
    "import matplotlib.pyplot as plt\n",
    "import os\n",
    "\n",
    "from collections import defaultdict\n",
    "\n",
    "%matplotlib inline\n",
    "\n",
    "algo_order = {'Reinforce':0, 'ActorCritic':1, 'DQN':2, 'DDQN':3}\n",
    "\n",
    "def load_log(filename):\n",
    "    df = pd.read_csv(f\"./logs/{filename}.csv\")\n",
    "    env_name = filename.split('_')[1].split('-')[0]\n",
    "    if env_name == 'CartPole':\n",
    "        df.rename(columns = {\n",
    "            'state0' : 'cart position',\n",
    "            'state1' : 'cart velocity',\n",
    "            'state2' : 'pole angle',\n",
    "            'state3' : 'pole angular velocity'\n",
    "            }, inplace = True)\n",
    "    elif env_name == 'LunarLander':\n",
    "        df.rename(columns = {\n",
    "            'state0' : 'horizontal coord',\n",
    "            'state1' : 'vertical coord',\n",
    "            'state2' : 'horizontal speed',\n",
    "            'state3' : 'vertical speed',\n",
    "            'state4' : 'angle',\n",
    "            'state5' : 'angular speed',\n",
    "            'state6' : 'first leg',\n",
    "            'state7' : 'second leg'\n",
    "            }, inplace = True)\n",
    "    return df\n",
    "\n",
    "def load_log_env_dic(filenames):\n",
    "    dfs = map(load_log, filenames)\n",
    "    env_dic = dict()\n",
    "    for df, filename in zip(dfs, filenames):\n",
    "        tokens = filename.split('_')\n",
    "        algo, env, *_ = tokens\n",
    "        env_dic[env] = env_dic.get(env, dict())\n",
    "\n",
    "        if algo in env_dic[env]:\n",
    "            env_dic[env][algo] = pd.concat([env_dic[env][algo], df])\n",
    "        else:\n",
    "            env_dic[env][algo] = df\n",
    "    return env_dic\n",
    "\n",
    "def get_log_names(filter_str=\"\"):\n",
    "    PATH = os.path.join(os.getcwd(), 'logs')\n",
    "    filenames = []\n",
    "    for name in os.listdir(PATH):\n",
    "        tokens = [*name.split('.')]\n",
    "        filename = None\n",
    "        if len(tokens) > 2:\n",
    "            filename = '.'.join(tokens[:-1])\n",
    "        else:\n",
    "            filename = tokens[0]\n",
    "        \n",
    "        filenames.append(filename)\n",
    "    return list(filter(lambda x: filter_str in x, filenames))\n",
    "\n",
    "\n",
    "def load_tflog(path_to_events_file):\n",
    "    from tensorboard.backend.event_processing.event_accumulator import EventAccumulator\n",
    "    from collections import defaultdict\n",
    "    ea = EventAccumulator(path_to_events_file)\n",
    "    ea.Reload()\n",
    "    data = defaultdict(list)\n",
    "    for e in ea.Scalars('episode/avg_score'):\n",
    "        wall_time, step, value = e\n",
    "        data['wall_time'].append(wall_time)\n",
    "        data['step'].append(step)\n",
    "        data['value'].append(value)\n",
    "    df = pd.DataFrame(data=data)\n",
    "    return df\n",
    "\n",
    "def get_tflog_names(path='runs'):\n",
    "    log_name_list = []\n",
    "    for (path, dir, files) in os.walk(os.path.join(os.getcwd(), path)):\n",
    "        for file in files:\n",
    "            if 'events' in file:\n",
    "                log_name_list += [os.path.join(*path.split('\\\\')[-2:], file)]\n",
    "    return log_name_list"
   ]
  },
  {
   "cell_type": "code",
   "execution_count": null,
   "metadata": {},
   "outputs": [],
   "source": [
    "def cartpole_data_demo():\n",
    "    df = load_log('ActorCritic_CartPole-v1_1635373522')\n",
    "    print(df.describe())\n",
    "    print(df.head(2))\n",
    "    print(f'데이터 개수: {len(df)}')\n",
    "\n",
    "    def remove_column():\n",
    "        # 특정 열 제거\n",
    "        df2 = df.drop(['reward', 'episode', 'done'], axis=1)\n",
    "        print(df2.describe())\n",
    "        print(df2.head(3))\n",
    "    \n",
    "    def filtering():\n",
    "        # 조건 선택\n",
    "        mask = (df['pole angle']>0.1) | (df['pole angle']<-0.1)\n",
    "        df2 = df[mask]\n",
    "        print(df2.describe())\n",
    "        print(df2.head(2))\n",
    "    \n",
    "    def one_hist():\n",
    "        sns.histplot(df, x=\"step\", y=\"cart position\", cbar=True, cbar_kws=dict(shrink=0.75))\n",
    "    \n",
    "    def all_hist():\n",
    "        sns.pairplot(df, corner=True, kind='hist')\n",
    "        plt.title(\"pairplot\")\n",
    "        plt.show()\n",
    "\n",
    "    one_hist()\n",
    "\n",
    "\n",
    "def cartpole_data_demo():\n",
    "    df = load_log('ActorCritic_LunarLander-v2_1635373522')\n",
    "    print(df.describe())\n",
    "    print(df.head(2))\n",
    "    print(f'데이터 개수: {len(df)}')\n",
    "\n",
    "    def remove_column():\n",
    "        # 특정 열 제거\n",
    "        df2 = df.drop(['reward', 'episode', 'done'], axis=1)\n",
    "        print(df2.describe())\n",
    "        print(df2.head(3))\n",
    "    \n",
    "    def filtering():\n",
    "        # 조건 선택\n",
    "        mask = (df['horizontal coord']>0.1) | (df['horizontal coord']<-0.1)\n",
    "        df2 = df[mask]\n",
    "        print(df2.describe())\n",
    "        print(df2.head(2))\n",
    "    \n",
    "    def one_hist():\n",
    "        sns.histplot(df, x=\"step\", y=\"horizontal coord\", \n",
    "                        cbar=True, cbar_kws=dict(shrink=0.75),\n",
    "                        pthresh=0.1, bins=30)\n",
    "        plt.title(\"histplot\")\n",
    "        plt.show()\n",
    "        sns.histplot(df, x=\"step\", y=\"vertical coord\", \n",
    "                        cbar=True, cbar_kws=dict(shrink=0.75),\n",
    "                        pthresh=0.1, bins=30)\n",
    "        plt.title(\"histplot\")\n",
    "        plt.show()\n",
    "    \n",
    "    def all_hist():\n",
    "        sns.pairplot(df, corner=True, kind='hist')\n",
    "        plt.title(\"pairplot\")\n",
    "        plt.show()\n",
    "\n",
    "    one_hist()\n",
    "\n",
    "cartpole_data_demo()"
   ]
  },
  {
   "cell_type": "code",
   "execution_count": null,
   "metadata": {},
   "outputs": [],
   "source": [
    "def cartpole_angle_rate():\n",
    "    \n",
    "    log_names = get_log_names('CartPole')\n",
    "    cartpole_dfs = map(load_log, log_names)\n",
    "    feature_name = 'pole angle'\n",
    "    fig, ax = plt.subplots(1, 4, figsize=(20, 5))\n",
    "    for i, (df, name) in enumerate(zip(cartpole_dfs, log_names)):\n",
    "        env, algo, *_ = name.split('_')\n",
    "        n_total = len(df)\n",
    "        threshold = 0.0873\n",
    "        mask = (df[feature_name]>threshold) | (df[feature_name]<-threshold)\n",
    "        masked_df = df[mask]\n",
    "        n_masked = len(masked_df)\n",
    "        print(f'환경: {env}, 알고리즘: {algo}')\n",
    "        print(f'제한 각도 {threshold}')\n",
    "        print(f'데이터 수: {n_total}, 제거된 데이터 수 {n_masked}, 비율: {(n_masked)/n_total:.2}')\n",
    "        \n",
    "        df['cgroup'] = mask\n",
    "        sns.histplot(ax=ax[algo_order[env]], data=df, x='step', y=feature_name, hue='cgroup', \n",
    "                    bins=30, legend=None)\n",
    "    plt.show()\n",
    "\n",
    "cartpole_angle_rate()"
   ]
  },
  {
   "cell_type": "code",
   "execution_count": null,
   "metadata": {},
   "outputs": [],
   "source": [
    "def lunarlander_angle_rate():\n",
    "    log_names = get_log_names('LunarLander')\n",
    "    dfs = map(load_log, log_names)\n",
    "    feature_name = 'angle'\n",
    "\n",
    "    fig, ax = plt.subplots(1, 4, figsize=(20, 5))\n",
    "    for df, name in zip(dfs, log_names):\n",
    "        env, algo, *_ = name.split('_')\n",
    "        n_total = len(df)\n",
    "        threshold = 0.4\n",
    "        mask = (df[feature_name]>threshold) | (df[feature_name]<-threshold)\n",
    "        masked_df = df[mask]\n",
    "        n_masked = len(masked_df)\n",
    "        print(f'환경: {env}, 알고리즘: {algo}')\n",
    "        print(f'제한 각도 {threshold}')\n",
    "        print(f'데이터 수: {n_total}, 제거된 데이터 수 {n_masked}, 비율: {n_masked/n_total:.2}')\n",
    "        df['cgroup'] = mask\n",
    "        sns.histplot(ax=ax[algo_order[env]], data=df, x='step', y=feature_name, hue='cgroup', \n",
    "                    bins=30, legend=None)\n",
    "    plt.show()\n",
    "\n",
    "lunarlander_angle_rate()"
   ]
  },
  {
   "cell_type": "code",
   "execution_count": null,
   "metadata": {},
   "outputs": [],
   "source": [
    "def cartpole_visualize():\n",
    "    log_names = get_log_names('CartPole')\n",
    "    dfs = map(load_log, log_names)\n",
    "    feature_name = 'pole angle'\n",
    "    for df, name in zip(dfs, log_names):\n",
    "        env, algo, *_ = name.split('_')\n",
    "        n_total = len(df)\n",
    "        print(f'환경: {env}, 알고리즘: {algo}, 데이터 수: {n_total}')\n",
    "        fig, ax = plt.subplots(figsize=(5, 5))\n",
    "        sns.histplot(df, x=\"step\", y=\"cart position\", \n",
    "                        cbar=True, cbar_kws=dict(shrink=0.75),\n",
    "                        bins=30, pthresh=0.05)\n",
    "        plt.show()\n",
    "        fig, ax = plt.subplots(figsize=(5, 5))\n",
    "        sns.histplot(df, x=\"step\", y=\"pole angle\", \n",
    "                        cbar=True, cbar_kws=dict(shrink=0.75),\n",
    "                        bins=30, pthresh=0.05)\n",
    "        plt.show()\n",
    "\n",
    "cartpole_visualize()"
   ]
  },
  {
   "cell_type": "code",
   "execution_count": null,
   "metadata": {},
   "outputs": [],
   "source": [
    "def lunarlander_visualize():\n",
    "    log_names = get_log_names('LunarLander')\n",
    "    dfs = map(load_log, log_names)\n",
    "    feature_name = 'pole angle'\n",
    "    for df, name in zip(dfs, log_names):\n",
    "        env, algo, *_ = name.split('_')\n",
    "        n_total = len(df)\n",
    "        print(f'환경: {env}, 알고리즘: {algo}, 데이터 수: {n_total}')\n",
    "        fig, ax = plt.subplots(figsize=(5, 5))\n",
    "        sns.histplot(df, x=\"step\", y=\"horizontal coord\", \n",
    "                        cbar=True, cbar_kws=dict(shrink=0.75),\n",
    "                        bins=30, pthresh=0.05)\n",
    "        plt.show()\n",
    "        fig, ax = plt.subplots(figsize=(5, 5))\n",
    "        sns.histplot(df, x=\"step\", y=\"vertical coord\", \n",
    "                        cbar=True, cbar_kws=dict(shrink=0.75),\n",
    "                        bins=30, pthresh=0.05)\n",
    "        plt.show()\n",
    "\n",
    "lunarlander_visualize()"
   ]
  },
  {
   "cell_type": "code",
   "execution_count": null,
   "metadata": {},
   "outputs": [],
   "source": [
    "def total_compare():\n",
    "        \n",
    "    def get_compare_statics(env_algo_dic):\n",
    "        statics = dict()\n",
    "        for env, algo_dic in env_algo_dic.items():\n",
    "            statics[env] = statics.get(env, defaultdict(pd.DataFrame))\n",
    "            for algo, df in algo_dic.items():\n",
    "                describe = df.describe()\n",
    "                for col in describe.columns:\n",
    "                    sr = describe[[col]].squeeze()\n",
    "                    sr.rename(algo, inplace=True)\n",
    "                    statics[env][col] = pd.concat([statics[env][col], sr], axis=1)\n",
    "        return statics\n",
    "\n",
    "    filenames = get_log_names()\n",
    "    env_algo_dic = load_log_env_dic(filenames)\n",
    "\n",
    "    statics = get_compare_statics(env_algo_dic)\n",
    "    for env in statics:\n",
    "        for feature in statics[env]:\n",
    "            print(f'{env}, {feature}')\n",
    "            print(statics[env][feature])\n",
    "            print()\n",
    "        print()\n",
    "\n",
    "def print_all_describe():\n",
    "    filenames = get_log_names()\n",
    "    env_dic = load_log_env_dic(filenames)\n",
    "    \n",
    "    for env_name, algo_dic in env_dic.items():\n",
    "        for algo_name, df in algo_dic.items():\n",
    "            print(f'{env_name=}, {algo_name=}')\n",
    "            print(df.describe())\n",
    "\n",
    "total_compare()"
   ]
  },
  {
   "cell_type": "code",
   "execution_count": null,
   "metadata": {},
   "outputs": [],
   "source": [
    "def cartpole_epi_success_rate():\n",
    "    filenames = get_log_names(filter_str='CartPole')\n",
    "    dfs = map(load_log, filenames)\n",
    "    \n",
    "    for algo_name, df in zip(filenames, dfs):\n",
    "        print(f'{algo_name}')\n",
    "        epi_scores = df.groupby(['episode'])['reward'].sum()\n",
    "        n_epi = len(epi_scores)\n",
    "        n_success = len(epi_scores[epi_scores >= 500])\n",
    "        print(f'{n_epi=}, {n_success=}, {n_success/n_epi:.3}')\n",
    "\n",
    "cartpole_epi_success_rate()\n"
   ]
  },
  {
   "cell_type": "code",
   "execution_count": null,
   "metadata": {},
   "outputs": [],
   "source": [
    "def lunarlander_epi_success_rate():\n",
    "    filenames = get_log_names(filter_str='LunarLander')\n",
    "    dfs = map(load_log, filenames)\n",
    "    \n",
    "    for algo_name, df in zip(filenames, dfs):\n",
    "        print(f'{algo_name}')\n",
    "        epi_scores = df.groupby(['episode'])['reward'].sum()\n",
    "        n_epi = len(epi_scores)\n",
    "        n_success = len(epi_scores[epi_scores >= 200])\n",
    "        print(f'{n_epi=}, {n_success=}, {n_success/n_epi:.3}')\n",
    "\n",
    "lunarlander_epi_success_rate()"
   ]
  },
  {
   "cell_type": "code",
   "execution_count": null,
   "metadata": {},
   "outputs": [],
   "source": [
    "\n",
    "\n",
    "def get_avg_exec_time_step():\n",
    "\n",
    "    log_name_list = get_tflog_names()\n",
    "    dfs = map(load_tflog, log_name_list)\n",
    "\n",
    "    env_dic = dict()\n",
    "\n",
    "    for name, df in zip(log_name_list, dfs):\n",
    "        algo, env, *_ = name.split('\\\\')[1].split('_')\n",
    "        t = df.at[len(df)-1, 'wall_time'] - df.at[0, 'wall_time']\n",
    "        n_step = df['step'].max()\n",
    "        env_dic[env] = env_dic.get(env, dict())\n",
    "        env_dic[env][algo] = env_dic[env].get(algo, dict())\n",
    "        env_dic[env][algo]['t'] = env_dic[env][algo].get('t', list())\n",
    "        env_dic[env][algo]['step'] = env_dic[env][algo].get('step', list())\n",
    "        env_dic[env][algo]['t'].append(t)\n",
    "        env_dic[env][algo]['step'].append(n_step)\n",
    "\n",
    "    for env in env_dic:\n",
    "        for algo in env_dic[env]:\n",
    "            print(f'{env=}, {algo=}')\n",
    "            print(f'n:\\t{len(env_dic[env][algo][\"t\"])}')\n",
    "            for k, li in env_dic[env][algo].items():\n",
    "                print(li)\n",
    "                print(f'{k}:\\t{np.average(li):.0f}')\n",
    "\n",
    "get_avg_exec_time_step()"
   ]
  },
  {
   "cell_type": "code",
   "execution_count": null,
   "metadata": {},
   "outputs": [],
   "source": [
    "def total_compare_with_filter():\n",
    "        \n",
    "    def get_compare_statics(env_algo_dic):\n",
    "        statics = dict()\n",
    "        for env, algo_dic in env_algo_dic.items():\n",
    "            statics[env] = statics.get(env, defaultdict(pd.DataFrame))\n",
    "            for algo, df in algo_dic.items():\n",
    "                describe = df.describe()\n",
    "                for col in describe.columns:\n",
    "                    sr = describe[[col]].squeeze()\n",
    "                    sr.rename(algo, inplace=True)\n",
    "                    statics[env][col] = pd.concat([statics[env][col], sr], axis=1)\n",
    "        return statics\n",
    "\n",
    "    filenames = get_log_names()\n",
    "    env_algo_dic = load_log_env_dic(filenames)\n",
    "\n",
    "    for env in env_algo_dic:\n",
    "        if 'CartPole' in env:\n",
    "            pass\n",
    "                \n",
    "        if 'LunarLander' in env:\n",
    "            for algo in env_algo_dic[env]:\n",
    "                print(f'{env=}, {algo=}')\n",
    "                threshold = 0.02\n",
    "                mask = env_algo_dic[env][algo]['vertical coord'] > threshold\n",
    "                n_before = len(env_algo_dic[env][algo])\n",
    "                env_algo_dic[env][algo] = env_algo_dic[env][algo][mask]\n",
    "                n_after = len(env_algo_dic[env][algo])\n",
    "                print(f'{n_before}에서 {n_before - n_after}개 제거됨')\n",
    "\n",
    "    statics = get_compare_statics(env_algo_dic)\n",
    "    for env in statics:\n",
    "        for feature in statics[env]:\n",
    "            print(f'{env}, {feature}')\n",
    "            print(statics[env][feature])\n",
    "            print()\n",
    "        print()\n",
    "\n",
    "total_compare_with_filter()"
   ]
  },
  {
   "cell_type": "code",
   "execution_count": 39,
   "metadata": {},
   "outputs": [
    {
     "name": "stdout",
     "output_type": "stream",
     "text": [
      "     algorithm  success_rate  tolerable_rate\n",
      "0    reinforce         0.668           0.830\n",
      "1  actorcritic         0.845           0.900\n",
      "2          dqn         0.922           0.967\n",
      "3         ddqn         0.998           0.978\n"
     ]
    },
    {
     "data": {
      "image/png": "[encoded data removed]",
      "text/plain": [
       "<Figure size 432x288 with 1 Axes>"
      ]
     },
     "metadata": {
      "needs_background": "light"
     },
     "output_type": "display_data"
    }
   ],
   "source": [
    "    def compare_algo():\n",
    "    columns = ['algorithm', 'success_rate', 'tolerable_rate']\n",
    "    df = pd.DataFrame(columns=columns)\n",
    "\n",
    "    def label_point(x, y, val, ax):\n",
    "        a = pd.concat({'x': x, 'y': y, 'val': val}, axis=1)\n",
    "        for i, point in a.iterrows():\n",
    "            ax.text(point['x']+.02, point['y'], str(point['val']))\n",
    "\n",
    "    def cartpole():\n",
    "        df.loc[len(df)] = ['reinforce', 0.668, 1-0.17]\n",
    "        df.loc[len(df)] = ['actorcritic', 0.845, 1-0.1]\n",
    "        df.loc[len(df)] = ['dqn', 0.922, 1-0.033]\n",
    "        df.loc[len(df)] = ['ddqn', 0.998, 1-0.022]\n",
    "        print(df)\n",
    "        fig, ax = plt.subplots()\n",
    "        sns.scatterplot(ax=ax, data=df, x='tolerable_rate', y='success_rate', hue='algorithm', s=100)\n",
    "        ax.set_ylim(0.6, 1)\n",
    "        ax.set_xlim(0.8, 1)\n",
    "        for i in range(df.shape[0]):\n",
    "            plt.text(df.tolerable_rate[i] -0.005, df.success_rate[i]-0.03, s=df.algorithm[i])\n",
    "\n",
    "    def lunarlander():\n",
    "        df.loc[len(df)] = ['reinforce', 0.293, 1-0.021]\n",
    "        df.loc[len(df)] = ['actorcritic', 0.38, 1-0.02]\n",
    "        df.loc[len(df)] = ['dqn', 0.206, 1-0.017]\n",
    "        df.loc[len(df)] = ['ddqn', 0.202, 1-0.01]\n",
    "        print(df)\n",
    "        fig, ax = plt.subplots()\n",
    "        sns.scatterplot(ax=ax, data=df, x='tolerable_rate', y='success_rate', hue='algorithm', s=100)\n",
    "        ax.set_ylim(0.15, 0.45)\n",
    "        ax.set_xlim(0.977, 0.995)\n",
    "        for i in range(df.shape[0]):\n",
    "            plt.text(df.tolerable_rate[i] + 0.0006, df.success_rate[i], s=df.algorithm[i])\n",
    "\n",
    "    cartpole()"
   ]
  },
  {
   "cell_type": "code",
   "execution_count": 57,
   "metadata": {},
   "outputs": [
    {
     "data": {
      "image/png": "[encoded data removed]",
      "text/plain": [
       "<Figure size 432x288 with 1 Axes>"
      ]
     },
     "metadata": {
      "needs_background": "light"
     },
     "output_type": "display_data"
    },
    {
     "data": {
      "image/png": "[encoded data removed]",
      "text/plain": [
       "<Figure size 432x288 with 1 Axes>"
      ]
     },
     "metadata": {
      "needs_background": "light"
     },
     "output_type": "display_data"
    },
    {
     "data": {
      "image/png": "[encoded data removed]",
      "text/plain": [
       "<Figure size 432x288 with 1 Axes>"
      ]
     },
     "metadata": {
      "needs_background": "light"
     },
     "output_type": "display_data"
    },
    {
     "data": {
      "image/png": "[encoded data removed]",
      "text/plain": [
       "<Figure size 432x288 with 1 Axes>"
      ]
     },
     "metadata": {
      "needs_background": "light"
     },
     "output_type": "display_data"
    },
    {
     "data": {
      "image/png": "[encoded data removed]",
      "text/plain": [
       "<Figure size 432x288 with 1 Axes>"
      ]
     },
     "metadata": {
      "needs_background": "light"
     },
     "output_type": "display_data"
    },
    {
     "data": {
      "image/png": "[encoded data removed]",
      "text/plain": [
       "<Figure size 432x288 with 1 Axes>"
      ]
     },
     "metadata": {
      "needs_background": "light"
     },
     "output_type": "display_data"
    },
    {
     "data": {
      "image/png": "[encoded data removed]",
      "text/plain": [
       "<Figure size 432x288 with 1 Axes>"
      ]
     },
     "metadata": {
      "needs_background": "light"
     },
     "output_type": "display_data"
    },
    {
     "data": {
      "image/png": "[encoded data removed]",
      "text/plain": [
       "<Figure size 432x288 with 1 Axes>"
      ]
     },
     "metadata": {
      "needs_background": "light"
     },
     "output_type": "display_data"
    }
   ],
   "source": [
    "def show_max_step():\n",
    "    filenames = get_log_names()\n",
    "    dfs = map(load_log, filenames)\n",
    "    for df, name in zip(dfs, filenames):\n",
    "        max_step = pd.DataFrame(df.groupby(['episode'])['step'].max())\n",
    "        mask = max_step['step'] < 9990\n",
    "        sns.histplot(max_step[mask])\n",
    "        plt.title(name)\n",
    "        plt.show()\n"
   ]
  }
 ],
 "metadata": {
  "interpreter": {
   "hash": "92bb61e8f2b0dcdaa21cd71aad1d97e3da046ad8a677ac321cbd25d595832889"
  },
  "kernelspec": {
   "display_name": "Python 3.8.11 64-bit ('py38-pytorch-gpu': conda)",
   "name": "python3"
  },
  "language_info": {
   "codemirror_mode": {
    "name": "ipython",
    "version": 3
   },
   "file_extension": ".py",
   "mimetype": "text/x-python",
   "name": "python",
   "nbconvert_exporter": "python",
   "pygments_lexer": "ipython3",
   "version": "3.8.11"
  },
  "orig_nbformat": 4
 },
 "nbformat": 4,
 "nbformat_minor": 2
}
