{
 "cells": [
  {
   "cell_type": "code",
   "execution_count": null,
   "metadata": {},
   "outputs": [],
   "source": [
    "import pandas as pd\n",
    "import numpy as np\n",
    "import seaborn as sns\n",
    "import matplotlib.pyplot as plt\n",
    "\n",
    "%matplotlib inline"
   ]
  },
  {
   "cell_type": "code",
   "execution_count": null,
   "metadata": {},
   "outputs": [],
   "source": [
    "def visualize(data, figsize=(15, 15)):\n",
    "    \n",
    "    plt.figure(figsize=figsize)\n",
    "    \n",
    "    step_value = pd.DataFrame(data.groupby(by='episode')[\"step\"].max())\n",
    "    step_value.reset_index(inplace=True)\n",
    "\n",
    "    plt.title(\"last step hist\")\n",
    "    sns.histplot(data=step_value, x=step_value.step, kde=True, bins=5)\n",
    "    plt.show()\n",
    "\n",
    "    # 상관관계 시각화 & des\n",
    "    def heatmap(data):\n",
    "        df = data.drop(columns=['reward', 'step'])\n",
    "        corr = df.corr()\n",
    "        fig, ax = plt.subplots(figsize=figsize)\n",
    "\n",
    "        # 삼각형 마스크를 만든다(위 쪽 삼각형에 True, 아래 삼각형에 False)\n",
    "        mask = np.zeros_like(corr, dtype=np.bool)\n",
    "        mask[np.triu_indices_from(mask)] = True\n",
    "\n",
    "        # 히트맵을 그린다\n",
    "        sns.heatmap(\n",
    "            corr,\n",
    "            cmap='RdYlBu_r',\n",
    "            annot=True,  # 실제 값을 표시한다\n",
    "            mask=mask,  # 표시하지 않을 마스크 부분을 지정한다\n",
    "            linewidths=.5,  # 경계면 실선으로 구분하기\n",
    "            cbar_kws={\"shrink\": .5},  # 컬러바 크기 절반으로 줄이기\n",
    "            vmin=-1,\n",
    "            vmax=1  # 컬러바 범위 -1 ~ 1\n",
    "        )\n",
    "\n",
    "        plt.title('Correation Matrix', fontsize=20)\n",
    "        plt.show()\n",
    "\n",
    "    heatmap(data)\n",
    "\n",
    "    # 그래프\n",
    "    col_names = data.columns.to_list()\n",
    "    col_names.remove('step')\n",
    "    col_names.remove('episode')\n",
    "    col_names.remove('reward')\n",
    "    col_names.remove('done')\n",
    "    col_names.remove('action')\n",
    "\n",
    "    for col in col_names:\n",
    "        fig, ax = plt.subplots(figsize=(15, 15))\n",
    "        sns.histplot(x=data[col], kde=True)\n",
    "\n",
    "    # 기초 통계량\n",
    "    print(data.describe())"
   ]
  },
  {
   "cell_type": "code",
   "execution_count": null,
   "metadata": {},
   "outputs": [],
   "source": [
    "data = pd.read_csv(\"DDQNv2.csv\")\n",
    "visualize(data)"
   ]
  },
  {
   "cell_type": "code",
   "execution_count": null,
   "metadata": {},
   "outputs": [],
   "source": [
    "data.groupby(by='episode')[\"step\"].describe()"
   ]
  },
  {
   "cell_type": "code",
   "execution_count": null,
   "metadata": {},
   "outputs": [],
   "source": [
    "step_value = pd.DataFrame(data.groupby(by='episode')[\"step\"].max())\n",
    "step_value.reset_index(inplace=True)\n",
    "step_value"
   ]
  },
  {
   "cell_type": "code",
   "execution_count": null,
   "metadata": {},
   "outputs": [],
   "source": [
    "sns.histplot(data=step_value,x=step_value.step,kde=True,bins=5)"
   ]
  },
  {
   "cell_type": "code",
   "execution_count": null,
   "metadata": {},
   "outputs": [],
   "source": [
    "plt.title(\"last step hist\")\n",
    "sns.histplot(x=data[\"step\"],kde=True)"
   ]
  }
 ],
 "metadata": {
  "language_info": {
   "name": "python"
  },
  "orig_nbformat": 4
 },
 "nbformat": 4,
 "nbformat_minor": 2
}
